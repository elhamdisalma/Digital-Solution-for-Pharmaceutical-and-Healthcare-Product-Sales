{
  "nbformat": 4,
  "nbformat_minor": 0,
  "metadata": {
    "colab": {
      "provenance": [],
      "gpuType": "T4"
    },
    "kernelspec": {
      "name": "python3",
      "display_name": "Python 3"
    },
    "language_info": {
      "name": "python"
    },
    "accelerator": "GPU"
  },
  "cells": [
    {
      "cell_type": "code",
      "execution_count": null,
      "metadata": {
        "colab": {
          "base_uri": "https://localhost:8080/"
        },
        "id": "5vGg2l1NEW6G",
        "outputId": "a3a06ea7-ebfe-47f2-ce95-8466dae1a086"
      },
      "outputs": [
        {
          "output_type": "stream",
          "name": "stdout",
          "text": [
            "\u001b[?25l   \u001b[90m━━━━━━━━━━━━━━━━━━━━━━━━━━━━━━━━━━━━━━━━\u001b[0m \u001b[32m0.0/901.7 kB\u001b[0m \u001b[31m?\u001b[0m eta \u001b[36m-:--:--\u001b[0m\r\u001b[2K   \u001b[90m━━━━━━━━━━━━━━━━━━━━━━━━━━━━━━━━━━━━━━━━\u001b[0m \u001b[32m901.7/901.7 kB\u001b[0m \u001b[31m52.7 MB/s\u001b[0m eta \u001b[36m0:00:00\u001b[0m\n",
            "\u001b[?25h"
          ]
        }
      ],
      "source": [
        "!pip install ultralytics -q\n",
        "!pip install scikit-learn numpy opencv-python tensorflow spacy -q\n",
        "!pip install gdown==4.6.0 -q"
      ]
    },
    {
      "cell_type": "code",
      "source": [
        "!git clone https://github.com/wjnwjn59/deep_sort.git"
      ],
      "metadata": {
        "colab": {
          "base_uri": "https://localhost:8080/"
        },
        "id": "mas0xFRzEyjg",
        "outputId": "46a40b47-bfab-40bc-9a6e-302a41fae60a"
      },
      "execution_count": null,
      "outputs": [
        {
          "output_type": "stream",
          "name": "stdout",
          "text": [
            "Cloning into 'deep_sort'...\n",
            "remote: Enumerating objects: 167, done.\u001b[K\n",
            "remote: Counting objects: 100% (17/17), done.\u001b[K\n",
            "remote: Compressing objects: 100% (10/10), done.\u001b[K\n",
            "remote: Total 167 (delta 9), reused 7 (delta 7), pack-reused 150 (from 2)\u001b[K\n",
            "Receiving objects: 100% (167/167), 77.68 KiB | 12.95 MiB/s, done.\n",
            "Resolving deltas: 100% (92/92), done.\n"
          ]
        }
      ]
    },
    {
      "cell_type": "code",
      "source": [
        "!gdown --no-check-certificate --folder https://drive.google.com/open?id=18fKzfqnqhqW3s9zwsCbnVJ5XF2JFeqMp"
      ],
      "metadata": {
        "colab": {
          "base_uri": "https://localhost:8080/"
        },
        "id": "4pR_K2odE3Dw",
        "outputId": "8043b0c0-e1a4-41fa-ee15-b71267fcc3da"
      },
      "execution_count": null,
      "outputs": [
        {
          "output_type": "stream",
          "name": "stdout",
          "text": [
            "Retrieving folder list\n",
            "Retrieving folder 1VVqtL0klSUvLnmBKS89il1EKC3IxUBVK detections\n",
            "Retrieving folder 1qNWOpUtKG8GqEiL-LbBdXyvifUtcbOvc MOT16_POI_test\n",
            "Processing file 1aEzvFHPK-N6hqLXMqhh3i9JJzn7WFUA3 MOT16-01.npy\n",
            "Processing file 1h_ktJDBIEXaSBAA-RxKNYnL9e4fp2HPd MOT16-03.npy\n",
            "Processing file 1ilOElwfYZLwQKH57HoYdXfuYhpPibfqF MOT16-06.npy\n",
            "Processing file 1TajzH3GbumKmtYvKBvOtGERFGD0tStwG MOT16-07.npy\n",
            "Processing file 1WB9Mi4RLVPHV4_20sVq7FdoeG5JYQ_J1 MOT16-08.npy\n",
            "Processing file 1mksH9GWNT7zmcuq6rlRev8pevZz8Rfsm MOT16-12.npy\n",
            "Processing file 1FVVhn_IpxQ_jkYhc0CUQHSQMm1SMTEBj MOT16-14.npy\n",
            "Retrieving folder 1DcOcApOkxP3NdeIUXxVF1KNex6T6YDq3 MOT16_POI_train\n",
            "Processing file 1Va__9NWU2ZCmaxIq4oIabi05NYWEOk1K MOT16-02.npy\n",
            "Processing file 1EH7orgDPp7kqRY5OA0hEctcEtQnYq0Ea MOT16-04.npy\n",
            "Processing file 1RCfHJx5ZoUecapbZCsgp0tCEiItvLsd8 MOT16-05.npy\n",
            "Processing file 1VLOvn-mbpY0Q1rsMONQZhaEQIGEmyLQL MOT16-09.npy\n",
            "Processing file 1SbMhOgYPvZ84xE8lRtXc7CLXJF86lwf4 MOT16-10.npy\n",
            "Processing file 1a4w-HopWJHLFVi4e5wM_CEpv_ZgAVSys MOT16-11.npy\n",
            "Processing file 1EOOPm2-09roynRlIxUCRSxBhChY8PA9D MOT16-13.npy\n",
            "Retrieving folder 1m2ebLHB2JThZC8vWGDYEKGsevLssSkjo networks\n",
            "Processing file 1hF6Cehn1SNZvh-M7FItSjEFojf_MVUba mars-small128.ckpt-68577\n",
            "Processing file 1FkpWjshRY1YZC3dtQT9DNUbVZLu97uqi mars-small128.ckpt-68577.meta\n",
            "Processing file 1bB66hP9voDXuoBoaCcKYY7a8IYzMMs4P mars-small128.pb\n",
            "Retrieving folder list completed\n",
            "Building directory structure\n",
            "Building directory structure completed\n",
            "Downloading...\n",
            "From: https://drive.google.com/uc?id=1aEzvFHPK-N6hqLXMqhh3i9JJzn7WFUA3\n",
            "To: /content/resources/detections/MOT16_POI_test/MOT16-01.npy\n",
            "100% 11.3M/11.3M [00:00<00:00, 28.6MB/s]\n",
            "Downloading...\n",
            "From: https://drive.google.com/uc?id=1h_ktJDBIEXaSBAA-RxKNYnL9e4fp2HPd\n",
            "To: /content/resources/detections/MOT16_POI_test/MOT16-03.npy\n",
            "100% 106M/106M [00:01<00:00, 59.1MB/s]\n",
            "Downloading...\n",
            "From: https://drive.google.com/uc?id=1ilOElwfYZLwQKH57HoYdXfuYhpPibfqF\n",
            "To: /content/resources/detections/MOT16_POI_test/MOT16-06.npy\n",
            "100% 12.0M/12.0M [00:00<00:00, 90.6MB/s]\n",
            "Downloading...\n",
            "From: https://drive.google.com/uc?id=1TajzH3GbumKmtYvKBvOtGERFGD0tStwG\n",
            "To: /content/resources/detections/MOT16_POI_test/MOT16-07.npy\n",
            "100% 17.7M/17.7M [00:00<00:00, 37.7MB/s]\n",
            "Downloading...\n",
            "From: https://drive.google.com/uc?id=1WB9Mi4RLVPHV4_20sVq7FdoeG5JYQ_J1\n",
            "To: /content/resources/detections/MOT16_POI_test/MOT16-08.npy\n",
            "100% 16.0M/16.0M [00:00<00:00, 38.2MB/s]\n",
            "Downloading...\n",
            "From: https://drive.google.com/uc?id=1mksH9GWNT7zmcuq6rlRev8pevZz8Rfsm\n",
            "To: /content/resources/detections/MOT16_POI_test/MOT16-12.npy\n",
            "100% 8.92M/8.92M [00:00<00:00, 24.3MB/s]\n",
            "Downloading...\n",
            "From: https://drive.google.com/uc?id=1FVVhn_IpxQ_jkYhc0CUQHSQMm1SMTEBj\n",
            "To: /content/resources/detections/MOT16_POI_test/MOT16-14.npy\n",
            "100% 21.1M/21.1M [00:00<00:00, 50.0MB/s]\n",
            "Downloading...\n",
            "From: https://drive.google.com/uc?id=1Va__9NWU2ZCmaxIq4oIabi05NYWEOk1K\n",
            "To: /content/resources/detections/MOT16_POI_train/MOT16-02.npy\n",
            "100% 15.6M/15.6M [00:00<00:00, 36.2MB/s]\n",
            "Downloading...\n",
            "From: https://drive.google.com/uc?id=1EH7orgDPp7kqRY5OA0hEctcEtQnYq0Ea\n",
            "To: /content/resources/detections/MOT16_POI_train/MOT16-04.npy\n",
            "100% 44.9M/44.9M [00:01<00:00, 40.6MB/s]\n",
            "Downloading...\n",
            "From: https://drive.google.com/uc?id=1RCfHJx5ZoUecapbZCsgp0tCEiItvLsd8\n",
            "To: /content/resources/detections/MOT16_POI_train/MOT16-05.npy\n",
            "100% 5.65M/5.65M [00:00<00:00, 67.5MB/s]\n",
            "Downloading...\n",
            "From: https://drive.google.com/uc?id=1VLOvn-mbpY0Q1rsMONQZhaEQIGEmyLQL\n",
            "To: /content/resources/detections/MOT16_POI_train/MOT16-09.npy\n",
            "100% 4.66M/4.66M [00:00<00:00, 42.1MB/s]\n",
            "Downloading...\n",
            "From: https://drive.google.com/uc?id=1SbMhOgYPvZ84xE8lRtXc7CLXJF86lwf4\n",
            "To: /content/resources/detections/MOT16_POI_train/MOT16-10.npy\n",
            "100% 14.6M/14.6M [00:00<00:00, 28.8MB/s]\n",
            "Downloading...\n",
            "From: https://drive.google.com/uc?id=1a4w-HopWJHLFVi4e5wM_CEpv_ZgAVSys\n",
            "To: /content/resources/detections/MOT16_POI_train/MOT16-11.npy\n",
            "100% 9.27M/9.27M [00:00<00:00, 25.9MB/s]\n",
            "Downloading...\n",
            "From: https://drive.google.com/uc?id=1EOOPm2-09roynRlIxUCRSxBhChY8PA9D\n",
            "To: /content/resources/detections/MOT16_POI_train/MOT16-13.npy\n",
            "100% 15.3M/15.3M [00:00<00:00, 40.4MB/s]\n",
            "Downloading...\n",
            "From: https://drive.google.com/uc?id=1hF6Cehn1SNZvh-M7FItSjEFojf_MVUba\n",
            "To: /content/resources/networks/mars-small128.ckpt-68577\n",
            "100% 36.0M/36.0M [00:00<00:00, 56.4MB/s]\n",
            "Downloading...\n",
            "From: https://drive.google.com/uc?id=1FkpWjshRY1YZC3dtQT9DNUbVZLu97uqi\n",
            "To: /content/resources/networks/mars-small128.ckpt-68577.meta\n",
            "100% 1.35M/1.35M [00:00<00:00, 145MB/s]\n",
            "Downloading...\n",
            "From: https://drive.google.com/uc?id=1bB66hP9voDXuoBoaCcKYY7a8IYzMMs4P\n",
            "To: /content/resources/networks/mars-small128.pb\n",
            "100% 11.2M/11.2M [00:00<00:00, 25.8MB/s]\n",
            "Download completed\n"
          ]
        }
      ]
    },
    {
      "cell_type": "code",
      "source": [
        "import os\n",
        "import json\n",
        "import cv2\n",
        "import numpy as np\n",
        "import matplotlib.pyplot as plt\n",
        "\n",
        "from ultralytics import YOLO\n",
        "\n",
        "from deep_sort.deep_sort import nn_matching\n",
        "from deep_sort.deep_sort.detection import Detection\n",
        "from deep_sort.deep_sort.tracker import Tracker\n",
        "from deep_sort.tools import generate_detections as gdet"
      ],
      "metadata": {
        "colab": {
          "base_uri": "https://localhost:8080/"
        },
        "id": "IQY-ctifE_Io",
        "outputId": "7c77fbae-0405-4b65-8667-a3808f88d3b9"
      },
      "execution_count": null,
      "outputs": [
        {
          "output_type": "stream",
          "name": "stdout",
          "text": [
            "Creating new Ultralytics Settings v0.0.6 file ✅ \n",
            "View Ultralytics Settings with 'yolo settings' or at '/root/.config/Ultralytics/settings.json'\n",
            "Update Settings with 'yolo settings key=value', i.e. 'yolo settings runs_dir=path/to/dir'. For help see https://docs.ultralytics.com/quickstart/#ultralytics-settings.\n"
          ]
        }
      ]
    },
    {
      "cell_type": "code",
      "source": [
        "class YOLO_Detector:\n",
        "  def __init__ (self,\n",
        "                model_path):\n",
        "    self.model = YOLO(model_path)\n",
        "  def detect (self, source_img):\n",
        "    results = self.model.predict(source_img, verbose=False)[0]\n",
        "    bboxes = results.boxes.xywh.cpu().numpy()\n",
        "    bboxes[:, :2] = bboxes[:, :2] - (bboxes[:, 2:] / 2)\n",
        "    confidences = results.boxes.conf.cpu().numpy()\n",
        "    class_ids = results.boxes.cls.cpu().numpy()\n",
        "    return bboxes, confidences, class_ids"
      ],
      "metadata": {
        "id": "l3BkcR-QFk_r"
      },
      "execution_count": null,
      "outputs": []
    },
    {
      "cell_type": "code",
      "source": [],
      "metadata": {
        "id": "Pkz5KBflua-g"
      },
      "execution_count": null,
      "outputs": []
    },
    {
      "cell_type": "code",
      "source": [
        "class deepSORT:\n",
        "  def __init__(\n",
        "      self,\n",
        "      model_path= 'resources/networks/mars-small128.pb',\n",
        "      max_cosine_distance=0.7,\n",
        "      nn_budget=None,\n",
        "      classes=['objects']\n",
        "  ):\n",
        "    self.encoder = gdet.create_box_encoder(model_path, batch_size=1)\n",
        "    self.metric = nn_matching.NearestNeighborDistanceMetric(\n",
        "        \"cosine\",\n",
        "        max_cosine_distance,\n",
        "        nn_budget\n",
        "    )\n",
        "    self.tracker = Tracker(self.metric)\n",
        "\n",
        "    key_list = []\n",
        "    val_list  = []\n",
        "    for ID, class_name in enumerate(classes):\n",
        "      key_list.append(ID)\n",
        "      val_list.append(class_name)\n",
        "    self.key_list = key_list\n",
        "    self.val_list = val_list\n",
        "  def tracking (\n",
        "      self,\n",
        "      origin_frame,\n",
        "      bboxes,\n",
        "      scores,\n",
        "      class_ids\n",
        "  ):\n",
        "    features = self.encoder(origin_frame, bboxes)\n",
        "    detections = [\n",
        "        Detection(bbox, score, class_id, feature) for bbox, score, class_id, feature in zip(bboxes, scores, class_ids, features)]\n",
        "\n",
        "    self.tracker.predict()\n",
        "    self.tracker.update(detections)\n",
        "\n",
        "    tracked_bboxes = []\n",
        "    for track in self.tracker.tracks:\n",
        "      if not track.is_confirmed() or track.time_since_update > 3:\n",
        "        continue\n",
        "      bbox = track.to_tlbr()\n",
        "      class_id = track.get_class()\n",
        "      conf_score = track.get_conf_score()\n",
        "      tracking_id = track.track_id\n",
        "      tracked_bboxes.append(\n",
        "                bbox.tolist() + [class_id, conf_score, tracking_id]\n",
        "            )\n",
        "    tracked_bboxes = np.array(tracked_bboxes)\n",
        "\n",
        "    return tracked_bboxes"
      ],
      "metadata": {
        "id": "oTdA5tOKFm3w"
      },
      "execution_count": null,
      "outputs": []
    },
    {
      "cell_type": "code",
      "source": [
        "def draw_detection(\n",
        "    img,\n",
        "    bboxes,\n",
        "    scores,\n",
        "    class_ids,\n",
        "    ids,\n",
        "    classes=['objects'],\n",
        "    mask_alpha=0.3\n",
        "):\n",
        "    height, width = img.shape[:2]\n",
        "    np.random.seed(0)\n",
        "    rng = np.random.default_rng(3)\n",
        "    colors = rng.uniform(0, 255, size=(len(classes), 3))\n",
        "\n",
        "    mask_img = img.copy()\n",
        "    det_img = img.copy()\n",
        "\n",
        "    size = min([height, width]) * 0.0006\n",
        "    text_thickness = int(min([height, width]) * 0.001)\n",
        "\n",
        "    # Draw bounding boxes and labels of detections\n",
        "    for bbox, score, class_id, id_ in zip(bboxes, scores, class_ids, ids):\n",
        "        color = colors[class_id]\n",
        "\n",
        "        x1, y1, x2, y2 = bbox.astype(int)\n",
        "\n",
        "        # Draw rectangle\n",
        "        cv2.rectangle(det_img, (x1, y1), (x2, y2), color, 2)\n",
        "\n",
        "        # Draw fill rectangle in mask image\n",
        "        cv2.rectangle(mask_img, (x1, y1), (x2, y2), color, -1)\n",
        "\n",
        "        label = classes[class_id]\n",
        "        caption = f'{label} {int(score * 100)}% ID: {id_}'\n",
        "        (tw, th), _ = cv2.getTextSize(text=caption, fontFace=cv2.FONT_HERSHEY_SIMPLEX,\n",
        "                                    fontScale=size, thickness=text_thickness)\n",
        "        th = int(th * 1.2)\n",
        "\n",
        "        cv2.rectangle(det_img, (x1, y1),\n",
        "                    (x1 + tw, y1 - th), color, -1)\n",
        "        cv2.rectangle(mask_img, (x1, y1),\n",
        "                    (x1 + tw, y1 - th), color, -1)\n",
        "        cv2.putText(det_img, caption, (x1, y1),\n",
        "                    cv2.FONT_HERSHEY_SIMPLEX, size, (255, 255, 255), text_thickness, cv2.LINE_AA)\n",
        "\n",
        "        cv2.putText(mask_img, caption, (x1, y1),\n",
        "                    cv2.FONT_HERSHEY_SIMPLEX, size, (255, 255, 255), text_thickness, cv2.LINE_AA)\n",
        "\n",
        "    return cv2.addWeighted(mask_img, mask_alpha, det_img, 1 - mask_alpha, 0)"
      ],
      "metadata": {
        "id": "_Seb3QlkF3Ig"
      },
      "execution_count": null,
      "outputs": []
    },
    {
      "cell_type": "code",
      "source": [
        "def video_tracking(\n",
        "    video_path,\n",
        "    detector,\n",
        "    tracker,\n",
        "    save_result_name,\n",
        "    is_save_result=False,\n",
        "    save_dir='tracking_results'\n",
        "):\n",
        "    cap = cv2.VideoCapture(video_path)\n",
        "    width = int(cap.get(cv2.CAP_PROP_FRAME_WIDTH))\n",
        "    height = int(cap.get(cv2.CAP_PROP_FRAME_HEIGHT))\n",
        "\n",
        "    if is_save_result:\n",
        "        os.makedirs(save_dir, exist_ok=True)\n",
        "        # Get the video properties\n",
        "        fps = int(cap.get(cv2.CAP_PROP_FPS))\n",
        "\n",
        "        # Define the codec and create the video writer\n",
        "        fourcc = cv2.VideoWriter_fourcc(*'MJPG')\n",
        "\n",
        "        save_result_name = save_result_name + '.avi'\n",
        "        save_result_path = os.path.join(save_dir, save_result_name)\n",
        "        out = cv2.VideoWriter(save_result_path, fourcc, fps, (width, height))\n",
        "\n",
        "\n",
        "    all_tracking_results = []\n",
        "    tracked_ids = np.array([], dtype=np.int32)\n",
        "    while True:\n",
        "        ret, frame = cap.read()\n",
        "\n",
        "        if not ret:\n",
        "            break\n",
        "\n",
        "        detector_results = detector.detect(frame)\n",
        "        bboxes, scores, class_ids = detector_results\n",
        "\n",
        "        tracker_pred = tracker.tracking(\n",
        "            origin_frame=frame,\n",
        "            bboxes=bboxes,\n",
        "            scores=scores,\n",
        "            class_ids=class_ids\n",
        "        )\n",
        "        if tracker_pred.size > 0:\n",
        "            bboxes = tracker_pred[:, :4]\n",
        "\n",
        "            class_ids = tracker_pred[:, 4].astype(int)\n",
        "            conf_scores = tracker_pred[:, 5]\n",
        "            tracking_ids = tracker_pred[:, 6].astype(int)\n",
        "\n",
        "            # Get new tracking IDs\n",
        "            new_ids = np.setdiff1d(tracking_ids, tracked_ids)\n",
        "\n",
        "            # Store new tracking IDs\n",
        "            tracked_ids = np.concatenate((tracked_ids, new_ids))\n",
        "\n",
        "            result_img = draw_detection(\n",
        "                img=frame,\n",
        "                bboxes=bboxes,\n",
        "                scores=conf_scores,\n",
        "                class_ids=class_ids,\n",
        "                ids=tracking_ids\n",
        "            )\n",
        "        else:\n",
        "            result_img=frame\n",
        "\n",
        "        all_tracking_results.append(tracker_pred)\n",
        "\n",
        "        if is_save_result == 1:\n",
        "            out.write(result_img)\n",
        "\n",
        "        # Break the loop if 'q' is pressed\n",
        "        if cv2.waitKey(25) & 0xFF == ord('q'):\n",
        "            break\n",
        "\n",
        "    # Release video capture\n",
        "    cap.release()\n",
        "    if is_save_result:\n",
        "        out.release()\n",
        "    cv2.destroyAllWindows()\n",
        "\n",
        "    return all_tracking_results"
      ],
      "metadata": {
        "id": "lYnOig_mGinn"
      },
      "execution_count": null,
      "outputs": []
    },
    {
      "cell_type": "code",
      "source": [
        "yolo_model_path = '/content/best.pt'\n",
        "\n",
        "detector = YOLO_Detector(yolo_model_path)\n",
        "tracker = deepSORT()"
      ],
      "metadata": {
        "id": "C4bNjXIwGnUd"
      },
      "execution_count": null,
      "outputs": []
    },
    {
      "cell_type": "code",
      "source": [
        "!gdown 1sCJAZn6Ug17HWn7PmwGH1XAqjgPhr8ZQ"
      ],
      "metadata": {
        "colab": {
          "base_uri": "https://localhost:8080/"
        },
        "id": "tEGGfNY8GuLQ",
        "outputId": "077a9ea0-cfc6-4469-83c2-5eb3997bf899"
      },
      "execution_count": null,
      "outputs": [
        {
          "output_type": "stream",
          "name": "stdout",
          "text": [
            "Downloading...\n",
            "From: https://drive.google.com/uc?id=1sCJAZn6Ug17HWn7PmwGH1XAqjgPhr8ZQ\n",
            "To: /content/CityRoam.mp4\n",
            "100% 5.43M/5.43M [00:00<00:00, 19.1MB/s]\n"
          ]
        }
      ]
    },
    {
      "cell_type": "code",
      "source": [
        "video_path = '/content/CityRoam.mp4'\n",
        "all_tracking_results = video_tracking(\n",
        "    video_path,\n",
        "    detector,\n",
        "    tracker,\n",
        "    save_result_name='tracking_results.mp4',\n",
        "    is_save_result=True\n",
        ")"
      ],
      "metadata": {
        "id": "TEJbCJseG3_X"
      },
      "execution_count": null,
      "outputs": []
    },
    {
      "cell_type": "code",
      "source": [
        "import os\n",
        "import subprocess\n",
        "from IPython.display import HTML\n",
        "from base64 import b64encode\n",
        "\n",
        "def show_tracked_video(output_video_path):\n",
        "    # Ensure the output directory exists\n",
        "    output_dir = os.path.dirname(output_video_path)\n",
        "    os.makedirs(output_dir, exist_ok=True)\n",
        "\n",
        "    # Define the path for the compressed video\n",
        "    compressed_path = os.path.join(output_dir, 'result_compressed.mp4')\n",
        "\n",
        "    # Compress the video using ffmpeg\n",
        "    ffmpeg_command = [\n",
        "        'ffmpeg',\n",
        "        '-i', output_video_path,\n",
        "        '-vcodec', 'libx264',\n",
        "        '-crf', '23',  # Adjust this as needed for quality vs. size\n",
        "        '-preset', 'fast',  # Adjust this for a balance of speed and quality\n",
        "        compressed_path\n",
        "    ]\n",
        "\n",
        "    # Execute ffmpeg command\n",
        "    result = subprocess.run(ffmpeg_command, capture_output=True, text=True)\n",
        "\n",
        "    # Check if ffmpeg command executed successfully\n",
        "    if result.returncode != 0:\n",
        "        print(\"Error compressing video with ffmpeg:\", result.stderr)\n",
        "        return\n",
        "\n",
        "    # Load and display the video if the compression was successful\n",
        "    if os.path.exists(compressed_path):\n",
        "        mp4 = open(compressed_path, 'rb').read()\n",
        "        data_url = \"data:video/mp4;base64,\" + b64encode(mp4).decode()\n",
        "        return HTML(f\"\"\"\n",
        "        <video width=600 controls>\n",
        "              <source src=\"{data_url}\" type=\"video/mp4\">\n",
        "        </video>\n",
        "        \"\"\")\n",
        "    else:\n",
        "        print(\"Compressed video file does not exist.\")\n",
        "\n"
      ],
      "metadata": {
        "id": "9BVR0kXnILXv"
      },
      "execution_count": null,
      "outputs": []
    },
    {
      "cell_type": "code",
      "source": [
        "output_video_path = '/content/tracking_results/tracking_result.avi'\n",
        "display(show_tracked_video(output_video_path))"
      ],
      "metadata": {
        "colab": {
          "base_uri": "https://localhost:8080/",
          "height": 280
        },
        "id": "oEOJt2NSJLIB",
        "outputId": "56c27f63-3f81-4899-825f-ea383924f8ad"
      },
      "execution_count": null,
      "outputs": [
        {
          "output_type": "stream",
          "name": "stdout",
          "text": [
            "Error compressing video with ffmpeg: ffmpeg version 4.4.2-0ubuntu0.22.04.1 Copyright (c) 2000-2021 the FFmpeg developers\n",
            "  built with gcc 11 (Ubuntu 11.2.0-19ubuntu1)\n",
            "  configuration: --prefix=/usr --extra-version=0ubuntu0.22.04.1 --toolchain=hardened --libdir=/usr/lib/x86_64-linux-gnu --incdir=/usr/include/x86_64-linux-gnu --arch=amd64 --enable-gpl --disable-stripping --enable-gnutls --enable-ladspa --enable-libaom --enable-libass --enable-libbluray --enable-libbs2b --enable-libcaca --enable-libcdio --enable-libcodec2 --enable-libdav1d --enable-libflite --enable-libfontconfig --enable-libfreetype --enable-libfribidi --enable-libgme --enable-libgsm --enable-libjack --enable-libmp3lame --enable-libmysofa --enable-libopenjpeg --enable-libopenmpt --enable-libopus --enable-libpulse --enable-librabbitmq --enable-librubberband --enable-libshine --enable-libsnappy --enable-libsoxr --enable-libspeex --enable-libsrt --enable-libssh --enable-libtheora --enable-libtwolame --enable-libvidstab --enable-libvorbis --enable-libvpx --enable-libwebp --enable-libx265 --enable-libxml2 --enable-libxvid --enable-libzimg --enable-libzmq --enable-libzvbi --enable-lv2 --enable-omx --enable-openal --enable-opencl --enable-opengl --enable-sdl2 --enable-pocketsphinx --enable-librsvg --enable-libmfx --enable-libdc1394 --enable-libdrm --enable-libiec61883 --enable-chromaprint --enable-frei0r --enable-libx264 --enable-shared\n",
            "  libavutil      56. 70.100 / 56. 70.100\n",
            "  libavcodec     58.134.100 / 58.134.100\n",
            "  libavformat    58. 76.100 / 58. 76.100\n",
            "  libavdevice    58. 13.100 / 58. 13.100\n",
            "  libavfilter     7.110.100 /  7.110.100\n",
            "  libswscale      5.  9.100 /  5.  9.100\n",
            "  libswresample   3.  9.100 /  3.  9.100\n",
            "  libpostproc    55.  9.100 / 55.  9.100\n",
            "/content/tracking_results/tracking_result.avi: No such file or directory\n",
            "\n"
          ]
        },
        {
          "output_type": "display_data",
          "data": {
            "text/plain": [
              "None"
            ]
          },
          "metadata": {}
        }
      ]
    },
    {
      "cell_type": "code",
      "source": [
        "video_path_2 = '/content/Test_video.mp4'\n",
        "all_tracking_results_2 = video_tracking(\n",
        "    video_path_2,\n",
        "    detector,\n",
        "    tracker,\n",
        "    save_result_name= 'test_video_result',\n",
        "    is_save_result=True\n",
        ")"
      ],
      "metadata": {
        "id": "NsRxIJROJQVa"
      },
      "execution_count": null,
      "outputs": []
    },
    {
      "cell_type": "code",
      "source": [
        "output_video_path_2 = '/content/tracking_results/test_video_result.avi'\n",
        "display(show_tracked_video(output_video_path_2))"
      ],
      "metadata": {
        "colab": {
          "base_uri": "https://localhost:8080/",
          "height": 297
        },
        "id": "eqy4G3fLJtBu",
        "outputId": "94465b14-d7fb-40d8-f167-d25f6e4c6bb3"
      },
      "execution_count": null,
      "outputs": [
        {
          "output_type": "stream",
          "name": "stdout",
          "text": [
            "Error compressing video with ffmpeg: ffmpeg version 4.4.2-0ubuntu0.22.04.1 Copyright (c) 2000-2021 the FFmpeg developers\n",
            "  built with gcc 11 (Ubuntu 11.2.0-19ubuntu1)\n",
            "  configuration: --prefix=/usr --extra-version=0ubuntu0.22.04.1 --toolchain=hardened --libdir=/usr/lib/x86_64-linux-gnu --incdir=/usr/include/x86_64-linux-gnu --arch=amd64 --enable-gpl --disable-stripping --enable-gnutls --enable-ladspa --enable-libaom --enable-libass --enable-libbluray --enable-libbs2b --enable-libcaca --enable-libcdio --enable-libcodec2 --enable-libdav1d --enable-libflite --enable-libfontconfig --enable-libfreetype --enable-libfribidi --enable-libgme --enable-libgsm --enable-libjack --enable-libmp3lame --enable-libmysofa --enable-libopenjpeg --enable-libopenmpt --enable-libopus --enable-libpulse --enable-librabbitmq --enable-librubberband --enable-libshine --enable-libsnappy --enable-libsoxr --enable-libspeex --enable-libsrt --enable-libssh --enable-libtheora --enable-libtwolame --enable-libvidstab --enable-libvorbis --enable-libvpx --enable-libwebp --enable-libx265 --enable-libxml2 --enable-libxvid --enable-libzimg --enable-libzmq --enable-libzvbi --enable-lv2 --enable-omx --enable-openal --enable-opencl --enable-opengl --enable-sdl2 --enable-pocketsphinx --enable-librsvg --enable-libmfx --enable-libdc1394 --enable-libdrm --enable-libiec61883 --enable-chromaprint --enable-frei0r --enable-libx264 --enable-shared\n",
            "  libavutil      56. 70.100 / 56. 70.100\n",
            "  libavcodec     58.134.100 / 58.134.100\n",
            "  libavformat    58. 76.100 / 58. 76.100\n",
            "  libavdevice    58. 13.100 / 58. 13.100\n",
            "  libavfilter     7.110.100 /  7.110.100\n",
            "  libswscale      5.  9.100 /  5.  9.100\n",
            "  libswresample   3.  9.100 /  3.  9.100\n",
            "  libpostproc    55.  9.100 / 55.  9.100\n",
            "[avi @ 0x5d0c3e7fbe80] Format avi detected only with low score of 1, misdetection possible!\n",
            "/content/tracking_results/test_video_result.avi: Invalid data found when processing input\n",
            "\n"
          ]
        },
        {
          "output_type": "display_data",
          "data": {
            "text/plain": [
              "None"
            ]
          },
          "metadata": {}
        }
      ]
    },
    {
      "cell_type": "code",
      "source": [
        "from google.colab import files\n",
        "files.download('/content/tracking_results/test_video_result.avi')"
      ],
      "metadata": {
        "colab": {
          "base_uri": "https://localhost:8080/",
          "height": 17
        },
        "id": "WAggNw5YJt_L",
        "outputId": "cba54852-e0d9-478e-fb61-4643a81bfb27"
      },
      "execution_count": null,
      "outputs": [
        {
          "output_type": "display_data",
          "data": {
            "text/plain": [
              "<IPython.core.display.Javascript object>"
            ],
            "application/javascript": [
              "\n",
              "    async function download(id, filename, size) {\n",
              "      if (!google.colab.kernel.accessAllowed) {\n",
              "        return;\n",
              "      }\n",
              "      const div = document.createElement('div');\n",
              "      const label = document.createElement('label');\n",
              "      label.textContent = `Downloading \"${filename}\": `;\n",
              "      div.appendChild(label);\n",
              "      const progress = document.createElement('progress');\n",
              "      progress.max = size;\n",
              "      div.appendChild(progress);\n",
              "      document.body.appendChild(div);\n",
              "\n",
              "      const buffers = [];\n",
              "      let downloaded = 0;\n",
              "\n",
              "      const channel = await google.colab.kernel.comms.open(id);\n",
              "      // Send a message to notify the kernel that we're ready.\n",
              "      channel.send({})\n",
              "\n",
              "      for await (const message of channel.messages) {\n",
              "        // Send a message to notify the kernel that we're ready.\n",
              "        channel.send({})\n",
              "        if (message.buffers) {\n",
              "          for (const buffer of message.buffers) {\n",
              "            buffers.push(buffer);\n",
              "            downloaded += buffer.byteLength;\n",
              "            progress.value = downloaded;\n",
              "          }\n",
              "        }\n",
              "      }\n",
              "      const blob = new Blob(buffers, {type: 'application/binary'});\n",
              "      const a = document.createElement('a');\n",
              "      a.href = window.URL.createObjectURL(blob);\n",
              "      a.download = filename;\n",
              "      div.appendChild(a);\n",
              "      a.click();\n",
              "      div.remove();\n",
              "    }\n",
              "  "
            ]
          },
          "metadata": {}
        },
        {
          "output_type": "display_data",
          "data": {
            "text/plain": [
              "<IPython.core.display.Javascript object>"
            ],
            "application/javascript": [
              "download(\"download_34611efd-7249-49ec-8123-0a3330294c3c\", \"test_video_result.avi\", 0)"
            ]
          },
          "metadata": {}
        }
      ]
    },
    {
      "cell_type": "code",
      "source": [
        "display('/content/tracking_results/result_compressed.mp4')"
      ],
      "metadata": {
        "colab": {
          "base_uri": "https://localhost:8080/",
          "height": 35
        },
        "id": "EcQS6eo9JxrO",
        "outputId": "dc2097b0-2d3a-4a78-b8bc-a70f89087012"
      },
      "execution_count": null,
      "outputs": [
        {
          "output_type": "display_data",
          "data": {
            "text/plain": [
              "'/content/tracking_results/result_compressed.mp4'"
            ],
            "application/vnd.google.colaboratory.intrinsic+json": {
              "type": "string"
            }
          },
          "metadata": {}
        }
      ]
    },
    {
      "cell_type": "code",
      "source": [],
      "metadata": {
        "id": "Bhr4e5LfJ7Au"
      },
      "execution_count": null,
      "outputs": []
    }
  ]
}