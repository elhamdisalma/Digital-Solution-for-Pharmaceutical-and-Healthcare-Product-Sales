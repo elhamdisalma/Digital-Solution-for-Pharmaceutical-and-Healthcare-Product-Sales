{
  "nbformat": 4,
  "nbformat_minor": 0,
  "metadata": {
    "colab": {
      "provenance": [],
      "gpuType": "T4"
    },
    "kernelspec": {
      "name": "python3",
      "display_name": "Python 3"
    },
    "language_info": {
      "name": "python"
    },
    "accelerator": "GPU"
  },
  "cells": [
    {
      "cell_type": "code",
      "execution_count": null,
      "metadata": {
        "colab": {
          "base_uri": "https://localhost:8080/"
        },
        "id": "SmBBqmwX5Ycp",
        "outputId": "102b146a-0d4d-4214-a001-c4f48db90ee5"
      },
      "outputs": [
        {
          "output_type": "stream",
          "name": "stdout",
          "text": [
            "--2025-01-03 19:31:26--  https://motchallenge.net/data/MOT17.zip\n",
            "Resolving motchallenge.net (motchallenge.net)... 131.159.19.34, 2a09:80c0:18::1034\n",
            "Connecting to motchallenge.net (motchallenge.net)|131.159.19.34|:443... connected.\n",
            "HTTP request sent, awaiting response... 200 OK\n",
            "Length: 5860214001 (5.5G) [application/zip]\n",
            "Saving to: ‘MOT17.zip’\n",
            "\n",
            "MOT17.zip           100%[===================>]   5.46G  16.3MB/s    in 5m 44s  \n",
            "\n",
            "2025-01-03 19:37:12 (16.3 MB/s) - ‘MOT17.zip’ saved [5860214001/5860214001]\n",
            "\n"
          ]
        }
      ],
      "source": [
        "!wget https://motchallenge.net/data/MOT17.zip"
      ]
    },
    {
      "cell_type": "code",
      "source": [
        "!unzip -qq MOT17.zip"
      ],
      "metadata": {
        "id": "SrbHt4LD7N0F"
      },
      "execution_count": null,
      "outputs": []
    },
    {
      "cell_type": "code",
      "source": [
        "!pip install ultralytics -q"
      ],
      "metadata": {
        "colab": {
          "base_uri": "https://localhost:8080/"
        },
        "id": "nspksdt17Sox",
        "outputId": "fded31ef-c107-45aa-b1e5-f0865d36f34e"
      },
      "execution_count": null,
      "outputs": [
        {
          "output_type": "stream",
          "name": "stdout",
          "text": [
            "\u001b[?25l   \u001b[90m━━━━━━━━━━━━━━━━━━━━━━━━━━━━━━━━━━━━━━━━\u001b[0m \u001b[32m0.0/905.3 kB\u001b[0m \u001b[31m?\u001b[0m eta \u001b[36m-:--:--\u001b[0m\r\u001b[2K   \u001b[90m━━━━━━━━━━━━━━━━━━━━━━━━━━━━━━━━━━━━━━━━\u001b[0m \u001b[32m905.3/905.3 kB\u001b[0m \u001b[31m51.2 MB/s\u001b[0m eta \u001b[36m0:00:00\u001b[0m\n",
            "\u001b[?25h"
          ]
        }
      ]
    },
    {
      "cell_type": "code",
      "source": [
        "import pandas as pd\n",
        "import os\n",
        "import yaml\n",
        "import shutil\n",
        "import configparser\n",
        "import ultralytics\n",
        "ultralytics.checks()\n",
        "\n",
        "from tqdm import tqdm\n",
        "from ultralytics import YOLO"
      ],
      "metadata": {
        "colab": {
          "base_uri": "https://localhost:8080/"
        },
        "id": "OW2aP-EQ7XJJ",
        "outputId": "f14ebca7-d51d-4e02-854d-ab3e4b481cca"
      },
      "execution_count": null,
      "outputs": [
        {
          "output_type": "stream",
          "name": "stdout",
          "text": [
            "Ultralytics 8.3.57 🚀 Python-3.10.12 torch-2.5.1+cu121 CUDA:0 (Tesla T4, 15102MiB)\n",
            "Setup complete ✅ (2 CPUs, 12.7 GB RAM, 43.8/112.6 GB disk)\n"
          ]
        }
      ]
    },
    {
      "cell_type": "code",
      "source": [
        "def convert_to_yolo_format (bb, img_width, img_height):\n",
        "    x_center = bb['bb_left'] + (bb['bb_width'] / 2)\n",
        "    y_center = bb['bb_top'] + (bb['bb_height'] / 2)\n",
        "\n",
        "    # Normalize the coordinates by the dimensions of the image\n",
        "    x_center /= img_width\n",
        "    y_center /= img_height\n",
        "    bb_width_normalized = bb['bb_width'] / img_width\n",
        "    bb_height_normalized = bb['bb_height'] / img_height\n",
        "\n",
        "    # Clip the values to make sure they are between 0 and 1\n",
        "    x_center = max(min(x_center, 1), 0)\n",
        "    y_center = max(min(y_center, 1), 0)\n",
        "    bb_width_normalized = max(min(bb_width_normalized, 1), 0)\n",
        "    bb_height_normalized = max(min(bb_height_normalized, 1), 0)\n",
        "\n",
        "    return (x_center, y_center, bb_width_normalized, bb_height_normalized)"
      ],
      "metadata": {
        "id": "fT_0swrp7Ydv"
      },
      "execution_count": null,
      "outputs": []
    },
    {
      "cell_type": "code",
      "source": [
        "def process_folder (folder_path):\n",
        "  # Read image dimensions from seqinfo.ini\n",
        "   config = configparser.ConfigParser()\n",
        "   config.read(os.path.join(folder_path, 'seqinfo.ini'))\n",
        "   img_width = int(config['Sequence']['imWidth'])\n",
        "   img_height = int(config['Sequence']['imHeight'])\n",
        "\n",
        "   # Load ground truth data\n",
        "   gt_path = os.path.join(folder_path, 'det/det.txt')\n",
        "   gt_data = pd.read_csv(\n",
        "        gt_path,\n",
        "        header=None,\n",
        "        names=['frame', 'id', 'bb_left', 'bb_top', 'bb_width', 'bb_height', 'conf', 'class', 'visibility']\n",
        "    )\n",
        "\n",
        "   labels_folder = os.path.join(folder_path, 'labels')\n",
        "   os.makedirs(labels_folder, exist_ok=True)\n",
        "\n",
        "   for frame_number in gt_data['frame'].unique():\n",
        "      # data in frame = frame_number\n",
        "      frame_data = gt_data[gt_data['frame'] == frame_number]\n",
        "      label_file = os.path.join(labels_folder, f'{frame_number:06d}.txt')\n",
        "\n",
        "      with open(label_file, 'w') as file:\n",
        "            for _, row in frame_data.iterrows():\n",
        "                yolo_bb = convert_to_yolo_format(row, img_width, img_height)\n",
        "                file.write(f'0 {yolo_bb[0]} {yolo_bb[1]} {yolo_bb[2]} {yolo_bb[3]}\\n')"
      ],
      "metadata": {
        "id": "RSeXRJE17zpI"
      },
      "execution_count": null,
      "outputs": []
    },
    {
      "cell_type": "code",
      "source": [
        "def process_all_folders(base_directory):\n",
        "    # List all subdirectories in the base directory\n",
        "    for folder_name in tqdm(os.listdir(base_directory)):\n",
        "        folder_path = os.path.join(base_directory, folder_name)\n",
        "\n",
        "        # Delete folder not contain 'FRCNN' in name\n",
        "        if 'FRCNN' not in folder_name:\n",
        "          if 'DPM' not in folder_name:\n",
        "            os.system(f'rm -rf {folder_path}')\n",
        "            continue\n",
        "\n",
        "        if os.path.isdir(folder_path):\n",
        "            process_folder(folder_path)"
      ],
      "metadata": {
        "id": "NDlLWc9U76QU"
      },
      "execution_count": null,
      "outputs": []
    },
    {
      "cell_type": "code",
      "source": [
        "process_all_folders('/content/MOT17/train')\n",
        "process_all_folders('/content/MOT17/test')"
      ],
      "metadata": {
        "colab": {
          "base_uri": "https://localhost:8080/"
        },
        "id": "j6AFN6b978yr",
        "outputId": "aa305a9c-ea7a-42ba-a4f5-b73d5ec7b2d9"
      },
      "execution_count": null,
      "outputs": [
        {
          "output_type": "stream",
          "name": "stderr",
          "text": [
            "100%|██████████| 21/21 [00:12<00:00,  1.73it/s]\n",
            "100%|██████████| 21/21 [00:17<00:00,  1.21it/s]\n"
          ]
        }
      ]
    },
    {
      "cell_type": "code",
      "source": [
        "def rename_and_move_files(src_folder, dst_folder, folder_name, file_extension):\n",
        "    for filename in os.listdir(src_folder):\n",
        "        if filename.endswith(file_extension):\n",
        "            # Include folder name in the new filename\n",
        "            new_filename = f'{folder_name}_{filename}'\n",
        "            shutil.move(os.path.join(src_folder, filename), os.path.join(dst_folder, new_filename))"
      ],
      "metadata": {
        "id": "xCs99o028BjQ"
      },
      "execution_count": null,
      "outputs": []
    },
    {
      "cell_type": "code",
      "source": [
        "def move_files_all_folders(base_directory):\n",
        "    images_dir = os.path.join(base_directory, 'images')\n",
        "    labels_dir = os.path.join(base_directory, 'labels')\n",
        "    os.makedirs(images_dir, exist_ok=True)\n",
        "    os.makedirs(labels_dir, exist_ok=True)\n",
        "\n",
        "    for folder_name in tqdm(os.listdir(base_directory)):\n",
        "        if folder_name in ['images', 'labels']:  # Skip these folders\n",
        "            continue\n",
        "\n",
        "        folder_path = os.path.join(base_directory, folder_name)\n",
        "        if os.path.isdir(folder_path):\n",
        "            rename_and_move_files(os.path.join(folder_path, 'img1'), images_dir, folder_name, '.jpg')\n",
        "            rename_and_move_files(os.path.join(folder_path, 'labels'), labels_dir, folder_name, '.txt')"
      ],
      "metadata": {
        "id": "1TAg3p2b8Fxl"
      },
      "execution_count": null,
      "outputs": []
    },
    {
      "cell_type": "code",
      "source": [
        "move_files_all_folders('/content/MOT17/train')\n",
        "move_files_all_folders('/content/MOT17/test')"
      ],
      "metadata": {
        "colab": {
          "base_uri": "https://localhost:8080/"
        },
        "id": "iVHzW0UQ8Ih9",
        "outputId": "a8ba6eb7-96c2-4eb7-d1a5-c35ed5aa3a9c"
      },
      "execution_count": null,
      "outputs": [
        {
          "output_type": "stream",
          "name": "stderr",
          "text": [
            "100%|██████████| 16/16 [00:00<00:00, 39.68it/s]\n",
            "100%|██████████| 16/16 [00:00<00:00, 29.87it/s]\n"
          ]
        }
      ]
    },
    {
      "cell_type": "code",
      "source": [
        "move_files_all_folders('MOT17/train')\n",
        "move_files_all_folders('MOT17/test')"
      ],
      "metadata": {
        "colab": {
          "base_uri": "https://localhost:8080/"
        },
        "id": "ZueclKDa8KdV",
        "outputId": "79b0b7ab-c2b1-4116-b558-a060a94d9153"
      },
      "execution_count": null,
      "outputs": [
        {
          "output_type": "stream",
          "name": "stderr",
          "text": [
            "100%|██████████| 16/16 [00:00<00:00, 10423.87it/s]\n",
            "100%|██████████| 16/16 [00:00<00:00, 16602.89it/s]\n"
          ]
        }
      ]
    },
    {
      "cell_type": "code",
      "source": [
        "def delete_subfolders(base_directory):\n",
        "    for folder_name in os.listdir(base_directory):\n",
        "        folder_path = os.path.join(base_directory, folder_name)\n",
        "        if os.path.isdir(folder_path) and folder_name not in ['images', 'labels']:\n",
        "            shutil.rmtree(folder_path)\n",
        "            print(f\"Deleted folder: {folder_name}\")"
      ],
      "metadata": {
        "id": "j4NbtltA8Ok_"
      },
      "execution_count": null,
      "outputs": []
    },
    {
      "cell_type": "code",
      "source": [
        "# Delete all subfolders except 'images' and 'labels'\n",
        "delete_subfolders('MOT17/train')\n",
        "delete_subfolders('MOT17/test')"
      ],
      "metadata": {
        "colab": {
          "base_uri": "https://localhost:8080/"
        },
        "id": "b0W_AYKc8Syq",
        "outputId": "96edfcf7-e8cb-4aa5-99b6-5a95548aef6c"
      },
      "execution_count": null,
      "outputs": [
        {
          "output_type": "stream",
          "name": "stdout",
          "text": [
            "Deleted folder: MOT17-10-DPM\n",
            "Deleted folder: MOT17-09-DPM\n",
            "Deleted folder: MOT17-11-FRCNN\n",
            "Deleted folder: MOT17-05-DPM\n",
            "Deleted folder: MOT17-13-FRCNN\n",
            "Deleted folder: MOT17-04-FRCNN\n",
            "Deleted folder: MOT17-11-DPM\n",
            "Deleted folder: MOT17-09-FRCNN\n",
            "Deleted folder: MOT17-02-FRCNN\n",
            "Deleted folder: MOT17-10-FRCNN\n",
            "Deleted folder: MOT17-02-DPM\n",
            "Deleted folder: MOT17-04-DPM\n",
            "Deleted folder: MOT17-13-DPM\n",
            "Deleted folder: MOT17-05-FRCNN\n",
            "Deleted folder: MOT17-06-FRCNN\n",
            "Deleted folder: MOT17-03-FRCNN\n",
            "Deleted folder: MOT17-08-FRCNN\n",
            "Deleted folder: MOT17-07-DPM\n",
            "Deleted folder: MOT17-07-FRCNN\n",
            "Deleted folder: MOT17-12-DPM\n",
            "Deleted folder: MOT17-14-FRCNN\n",
            "Deleted folder: MOT17-01-FRCNN\n",
            "Deleted folder: MOT17-03-DPM\n",
            "Deleted folder: MOT17-06-DPM\n",
            "Deleted folder: MOT17-08-DPM\n",
            "Deleted folder: MOT17-14-DPM\n",
            "Deleted folder: MOT17-01-DPM\n",
            "Deleted folder: MOT17-12-FRCNN\n"
          ]
        }
      ]
    },
    {
      "cell_type": "code",
      "source": [
        "os.listdir('/content/MOT17/test/images')"
      ],
      "metadata": {
        "colab": {
          "base_uri": "https://localhost:8080/"
        },
        "id": "1sCVA5y18elX",
        "outputId": "c6d7659d-2569-406f-ef2c-57bd30d9b6d4"
      },
      "execution_count": null,
      "outputs": [
        {
          "output_type": "execute_result",
          "data": {
            "text/plain": [
              "['MOT17-14-FRCNN_000670.jpg',\n",
              " 'MOT17-03-DPM_001493.jpg',\n",
              " 'MOT17-01-DPM_000074.jpg',\n",
              " 'MOT17-03-FRCNN_000188.jpg',\n",
              " 'MOT17-14-FRCNN_000341.jpg',\n",
              " 'MOT17-12-FRCNN_000696.jpg',\n",
              " 'MOT17-06-FRCNN_000242.jpg',\n",
              " 'MOT17-03-DPM_000591.jpg',\n",
              " 'MOT17-12-DPM_000765.jpg',\n",
              " 'MOT17-08-FRCNN_000032.jpg',\n",
              " 'MOT17-06-DPM_000901.jpg',\n",
              " 'MOT17-03-FRCNN_000353.jpg',\n",
              " 'MOT17-03-FRCNN_000802.jpg',\n",
              " 'MOT17-08-FRCNN_000560.jpg',\n",
              " 'MOT17-12-DPM_000582.jpg',\n",
              " 'MOT17-03-DPM_000133.jpg',\n",
              " 'MOT17-14-DPM_000295.jpg',\n",
              " 'MOT17-03-DPM_000274.jpg',\n",
              " 'MOT17-03-DPM_000592.jpg',\n",
              " 'MOT17-06-FRCNN_000181.jpg',\n",
              " 'MOT17-01-DPM_000398.jpg',\n",
              " 'MOT17-06-DPM_001003.jpg',\n",
              " 'MOT17-03-DPM_000687.jpg',\n",
              " 'MOT17-12-FRCNN_000807.jpg',\n",
              " 'MOT17-03-FRCNN_000612.jpg',\n",
              " 'MOT17-03-FRCNN_001222.jpg',\n",
              " 'MOT17-08-FRCNN_000499.jpg',\n",
              " 'MOT17-06-DPM_000196.jpg',\n",
              " 'MOT17-12-FRCNN_000615.jpg',\n",
              " 'MOT17-08-DPM_000184.jpg',\n",
              " 'MOT17-14-DPM_000728.jpg',\n",
              " 'MOT17-01-DPM_000133.jpg',\n",
              " 'MOT17-06-FRCNN_000660.jpg',\n",
              " 'MOT17-03-DPM_001418.jpg',\n",
              " 'MOT17-14-DPM_000610.jpg',\n",
              " 'MOT17-08-FRCNN_000577.jpg',\n",
              " 'MOT17-03-DPM_001482.jpg',\n",
              " 'MOT17-06-DPM_000304.jpg',\n",
              " 'MOT17-01-FRCNN_000389.jpg',\n",
              " 'MOT17-12-DPM_000347.jpg',\n",
              " 'MOT17-08-FRCNN_000197.jpg',\n",
              " 'MOT17-07-FRCNN_000175.jpg',\n",
              " 'MOT17-01-FRCNN_000223.jpg',\n",
              " 'MOT17-12-FRCNN_000601.jpg',\n",
              " 'MOT17-12-FRCNN_000852.jpg',\n",
              " 'MOT17-14-DPM_000694.jpg',\n",
              " 'MOT17-03-DPM_000881.jpg',\n",
              " 'MOT17-06-DPM_001168.jpg',\n",
              " 'MOT17-01-DPM_000169.jpg',\n",
              " 'MOT17-07-DPM_000109.jpg',\n",
              " 'MOT17-14-DPM_000587.jpg',\n",
              " 'MOT17-01-DPM_000151.jpg',\n",
              " 'MOT17-03-DPM_001431.jpg',\n",
              " 'MOT17-03-FRCNN_001468.jpg',\n",
              " 'MOT17-12-DPM_000818.jpg',\n",
              " 'MOT17-06-DPM_000026.jpg',\n",
              " 'MOT17-06-DPM_000854.jpg',\n",
              " 'MOT17-08-DPM_000289.jpg',\n",
              " 'MOT17-03-DPM_001007.jpg',\n",
              " 'MOT17-07-DPM_000151.jpg',\n",
              " 'MOT17-06-DPM_001008.jpg',\n",
              " 'MOT17-14-DPM_000423.jpg',\n",
              " 'MOT17-01-FRCNN_000046.jpg',\n",
              " 'MOT17-03-FRCNN_001327.jpg',\n",
              " 'MOT17-06-DPM_001164.jpg',\n",
              " 'MOT17-07-FRCNN_000365.jpg',\n",
              " 'MOT17-06-FRCNN_000021.jpg',\n",
              " 'MOT17-06-DPM_000075.jpg',\n",
              " 'MOT17-12-FRCNN_000497.jpg',\n",
              " 'MOT17-03-DPM_001066.jpg',\n",
              " 'MOT17-14-FRCNN_000171.jpg',\n",
              " 'MOT17-03-FRCNN_001388.jpg',\n",
              " 'MOT17-08-FRCNN_000601.jpg',\n",
              " 'MOT17-06-DPM_000520.jpg',\n",
              " 'MOT17-03-FRCNN_000458.jpg',\n",
              " 'MOT17-08-DPM_000229.jpg',\n",
              " 'MOT17-06-FRCNN_000243.jpg',\n",
              " 'MOT17-06-FRCNN_000997.jpg',\n",
              " 'MOT17-06-DPM_000888.jpg',\n",
              " 'MOT17-12-DPM_000443.jpg',\n",
              " 'MOT17-06-FRCNN_000105.jpg',\n",
              " 'MOT17-03-DPM_001466.jpg',\n",
              " 'MOT17-12-FRCNN_000092.jpg',\n",
              " 'MOT17-06-DPM_000687.jpg',\n",
              " 'MOT17-07-FRCNN_000369.jpg',\n",
              " 'MOT17-06-DPM_001141.jpg',\n",
              " 'MOT17-03-FRCNN_001208.jpg',\n",
              " 'MOT17-03-FRCNN_001425.jpg',\n",
              " 'MOT17-06-FRCNN_000158.jpg',\n",
              " 'MOT17-01-DPM_000063.jpg',\n",
              " 'MOT17-06-DPM_001068.jpg',\n",
              " 'MOT17-14-DPM_000284.jpg',\n",
              " 'MOT17-06-DPM_000746.jpg',\n",
              " 'MOT17-06-DPM_000908.jpg',\n",
              " 'MOT17-14-FRCNN_000109.jpg',\n",
              " 'MOT17-06-FRCNN_000950.jpg',\n",
              " 'MOT17-12-DPM_000865.jpg',\n",
              " 'MOT17-08-FRCNN_000257.jpg',\n",
              " 'MOT17-14-FRCNN_000397.jpg',\n",
              " 'MOT17-03-FRCNN_000697.jpg',\n",
              " 'MOT17-12-DPM_000166.jpg',\n",
              " 'MOT17-14-FRCNN_000253.jpg',\n",
              " 'MOT17-03-DPM_000021.jpg',\n",
              " 'MOT17-06-FRCNN_000794.jpg',\n",
              " 'MOT17-14-DPM_000435.jpg',\n",
              " 'MOT17-08-FRCNN_000607.jpg',\n",
              " 'MOT17-03-FRCNN_000451.jpg',\n",
              " 'MOT17-03-FRCNN_000429.jpg',\n",
              " 'MOT17-12-FRCNN_000143.jpg',\n",
              " 'MOT17-01-FRCNN_000233.jpg',\n",
              " 'MOT17-06-FRCNN_000159.jpg',\n",
              " 'MOT17-06-FRCNN_001151.jpg',\n",
              " 'MOT17-03-DPM_001013.jpg',\n",
              " 'MOT17-03-FRCNN_000723.jpg',\n",
              " 'MOT17-01-FRCNN_000303.jpg',\n",
              " 'MOT17-03-DPM_000782.jpg',\n",
              " 'MOT17-07-DPM_000122.jpg',\n",
              " 'MOT17-01-DPM_000020.jpg',\n",
              " 'MOT17-03-DPM_001235.jpg',\n",
              " 'MOT17-03-FRCNN_000818.jpg',\n",
              " 'MOT17-07-FRCNN_000183.jpg',\n",
              " 'MOT17-14-FRCNN_000740.jpg',\n",
              " 'MOT17-08-DPM_000014.jpg',\n",
              " 'MOT17-06-DPM_000738.jpg',\n",
              " 'MOT17-14-FRCNN_000386.jpg',\n",
              " 'MOT17-14-FRCNN_000042.jpg',\n",
              " 'MOT17-01-FRCNN_000166.jpg',\n",
              " 'MOT17-12-FRCNN_000738.jpg',\n",
              " 'MOT17-03-DPM_000710.jpg',\n",
              " 'MOT17-06-FRCNN_001088.jpg',\n",
              " 'MOT17-08-DPM_000258.jpg',\n",
              " 'MOT17-01-DPM_000181.jpg',\n",
              " 'MOT17-12-FRCNN_000058.jpg',\n",
              " 'MOT17-06-FRCNN_000442.jpg',\n",
              " 'MOT17-06-FRCNN_000812.jpg',\n",
              " 'MOT17-01-FRCNN_000001.jpg',\n",
              " 'MOT17-03-FRCNN_000102.jpg',\n",
              " 'MOT17-06-FRCNN_000418.jpg',\n",
              " 'MOT17-03-DPM_001111.jpg',\n",
              " 'MOT17-07-DPM_000481.jpg',\n",
              " 'MOT17-12-DPM_000631.jpg',\n",
              " 'MOT17-03-DPM_001319.jpg',\n",
              " 'MOT17-08-FRCNN_000213.jpg',\n",
              " 'MOT17-08-DPM_000116.jpg',\n",
              " 'MOT17-03-FRCNN_000193.jpg',\n",
              " 'MOT17-08-DPM_000193.jpg',\n",
              " 'MOT17-12-DPM_000882.jpg',\n",
              " 'MOT17-06-FRCNN_000062.jpg',\n",
              " 'MOT17-07-DPM_000426.jpg',\n",
              " 'MOT17-03-FRCNN_001439.jpg',\n",
              " 'MOT17-06-FRCNN_000338.jpg',\n",
              " 'MOT17-03-DPM_000202.jpg',\n",
              " 'MOT17-01-DPM_000250.jpg',\n",
              " 'MOT17-03-FRCNN_001104.jpg',\n",
              " 'MOT17-06-DPM_000857.jpg',\n",
              " 'MOT17-12-FRCNN_000303.jpg',\n",
              " 'MOT17-06-DPM_000797.jpg',\n",
              " 'MOT17-07-DPM_000221.jpg',\n",
              " 'MOT17-14-DPM_000567.jpg',\n",
              " 'MOT17-08-DPM_000462.jpg',\n",
              " 'MOT17-03-DPM_000440.jpg',\n",
              " 'MOT17-03-FRCNN_000039.jpg',\n",
              " 'MOT17-08-FRCNN_000158.jpg',\n",
              " 'MOT17-06-FRCNN_000351.jpg',\n",
              " 'MOT17-08-DPM_000045.jpg',\n",
              " 'MOT17-08-FRCNN_000392.jpg',\n",
              " 'MOT17-14-FRCNN_000135.jpg',\n",
              " 'MOT17-06-DPM_000474.jpg',\n",
              " 'MOT17-12-DPM_000890.jpg',\n",
              " 'MOT17-03-FRCNN_000726.jpg',\n",
              " 'MOT17-08-DPM_000233.jpg',\n",
              " 'MOT17-06-DPM_000096.jpg',\n",
              " 'MOT17-03-FRCNN_001160.jpg',\n",
              " 'MOT17-08-FRCNN_000144.jpg',\n",
              " 'MOT17-03-DPM_000566.jpg',\n",
              " 'MOT17-12-FRCNN_000088.jpg',\n",
              " 'MOT17-06-DPM_001124.jpg',\n",
              " 'MOT17-12-DPM_000858.jpg',\n",
              " 'MOT17-12-FRCNN_000844.jpg',\n",
              " 'MOT17-03-DPM_000882.jpg',\n",
              " 'MOT17-12-DPM_000643.jpg',\n",
              " 'MOT17-03-DPM_000905.jpg',\n",
              " 'MOT17-06-DPM_000785.jpg',\n",
              " 'MOT17-08-DPM_000248.jpg',\n",
              " 'MOT17-01-DPM_000318.jpg',\n",
              " 'MOT17-03-DPM_000599.jpg',\n",
              " 'MOT17-03-DPM_000491.jpg',\n",
              " 'MOT17-12-DPM_000405.jpg',\n",
              " 'MOT17-06-DPM_000069.jpg',\n",
              " 'MOT17-12-DPM_000059.jpg',\n",
              " 'MOT17-12-DPM_000570.jpg',\n",
              " 'MOT17-06-DPM_000231.jpg',\n",
              " 'MOT17-08-FRCNN_000157.jpg',\n",
              " 'MOT17-01-FRCNN_000422.jpg',\n",
              " 'MOT17-06-FRCNN_000518.jpg',\n",
              " 'MOT17-12-FRCNN_000328.jpg',\n",
              " 'MOT17-07-FRCNN_000494.jpg',\n",
              " 'MOT17-14-DPM_000348.jpg',\n",
              " 'MOT17-14-FRCNN_000457.jpg',\n",
              " 'MOT17-06-DPM_000577.jpg',\n",
              " 'MOT17-12-FRCNN_000124.jpg',\n",
              " 'MOT17-08-DPM_000091.jpg',\n",
              " 'MOT17-06-FRCNN_000371.jpg',\n",
              " 'MOT17-03-FRCNN_000317.jpg',\n",
              " 'MOT17-12-FRCNN_000631.jpg',\n",
              " 'MOT17-03-FRCNN_000667.jpg',\n",
              " 'MOT17-06-DPM_000263.jpg',\n",
              " 'MOT17-03-DPM_001146.jpg',\n",
              " 'MOT17-03-FRCNN_001132.jpg',\n",
              " 'MOT17-14-DPM_000376.jpg',\n",
              " 'MOT17-03-FRCNN_000902.jpg',\n",
              " 'MOT17-12-DPM_000178.jpg',\n",
              " 'MOT17-03-FRCNN_000619.jpg',\n",
              " 'MOT17-03-DPM_001402.jpg',\n",
              " 'MOT17-06-FRCNN_000507.jpg',\n",
              " 'MOT17-06-FRCNN_000846.jpg',\n",
              " 'MOT17-12-DPM_000441.jpg',\n",
              " 'MOT17-07-FRCNN_000219.jpg',\n",
              " 'MOT17-03-DPM_000675.jpg',\n",
              " 'MOT17-14-FRCNN_000098.jpg',\n",
              " 'MOT17-14-FRCNN_000239.jpg',\n",
              " 'MOT17-14-FRCNN_000125.jpg',\n",
              " 'MOT17-12-FRCNN_000340.jpg',\n",
              " 'MOT17-01-DPM_000163.jpg',\n",
              " 'MOT17-12-DPM_000267.jpg',\n",
              " 'MOT17-06-DPM_000453.jpg',\n",
              " 'MOT17-01-DPM_000109.jpg',\n",
              " 'MOT17-07-DPM_000275.jpg',\n",
              " 'MOT17-03-FRCNN_000879.jpg',\n",
              " 'MOT17-03-DPM_000945.jpg',\n",
              " 'MOT17-06-DPM_000787.jpg',\n",
              " 'MOT17-03-FRCNN_000923.jpg',\n",
              " 'MOT17-03-FRCNN_000519.jpg',\n",
              " 'MOT17-12-DPM_000808.jpg',\n",
              " 'MOT17-12-DPM_000802.jpg',\n",
              " 'MOT17-08-DPM_000182.jpg',\n",
              " 'MOT17-01-FRCNN_000343.jpg',\n",
              " 'MOT17-06-FRCNN_000137.jpg',\n",
              " 'MOT17-03-FRCNN_001003.jpg',\n",
              " 'MOT17-06-FRCNN_000333.jpg',\n",
              " 'MOT17-08-DPM_000546.jpg',\n",
              " 'MOT17-03-FRCNN_000888.jpg',\n",
              " 'MOT17-03-FRCNN_000434.jpg',\n",
              " 'MOT17-14-DPM_000116.jpg',\n",
              " 'MOT17-12-FRCNN_000032.jpg',\n",
              " 'MOT17-06-DPM_000695.jpg',\n",
              " 'MOT17-07-FRCNN_000141.jpg',\n",
              " 'MOT17-03-FRCNN_000182.jpg',\n",
              " 'MOT17-03-FRCNN_001437.jpg',\n",
              " 'MOT17-08-FRCNN_000589.jpg',\n",
              " 'MOT17-03-DPM_001477.jpg',\n",
              " 'MOT17-01-FRCNN_000182.jpg',\n",
              " 'MOT17-12-FRCNN_000851.jpg',\n",
              " 'MOT17-14-DPM_000491.jpg',\n",
              " 'MOT17-06-FRCNN_000706.jpg',\n",
              " 'MOT17-03-FRCNN_000244.jpg',\n",
              " 'MOT17-08-FRCNN_000124.jpg',\n",
              " 'MOT17-06-FRCNN_000813.jpg',\n",
              " 'MOT17-03-DPM_000866.jpg',\n",
              " 'MOT17-06-FRCNN_000185.jpg',\n",
              " 'MOT17-03-DPM_000557.jpg',\n",
              " 'MOT17-08-FRCNN_000233.jpg',\n",
              " 'MOT17-12-DPM_000019.jpg',\n",
              " 'MOT17-03-FRCNN_001082.jpg',\n",
              " 'MOT17-14-DPM_000599.jpg',\n",
              " 'MOT17-03-FRCNN_001251.jpg',\n",
              " 'MOT17-03-DPM_001032.jpg',\n",
              " 'MOT17-08-FRCNN_000267.jpg',\n",
              " 'MOT17-03-DPM_000787.jpg',\n",
              " 'MOT17-03-DPM_000117.jpg',\n",
              " 'MOT17-06-DPM_000505.jpg',\n",
              " 'MOT17-12-FRCNN_000820.jpg',\n",
              " 'MOT17-08-FRCNN_000540.jpg',\n",
              " 'MOT17-06-FRCNN_000173.jpg',\n",
              " 'MOT17-06-FRCNN_000058.jpg',\n",
              " 'MOT17-07-DPM_000468.jpg',\n",
              " 'MOT17-03-DPM_001070.jpg',\n",
              " 'MOT17-01-FRCNN_000192.jpg',\n",
              " 'MOT17-06-FRCNN_000353.jpg',\n",
              " 'MOT17-14-FRCNN_000665.jpg',\n",
              " 'MOT17-06-FRCNN_001128.jpg',\n",
              " 'MOT17-07-FRCNN_000235.jpg',\n",
              " 'MOT17-06-FRCNN_000005.jpg',\n",
              " 'MOT17-08-FRCNN_000156.jpg',\n",
              " 'MOT17-08-FRCNN_000536.jpg',\n",
              " 'MOT17-14-FRCNN_000242.jpg',\n",
              " 'MOT17-12-DPM_000672.jpg',\n",
              " 'MOT17-14-DPM_000701.jpg',\n",
              " 'MOT17-03-DPM_001297.jpg',\n",
              " 'MOT17-14-DPM_000603.jpg',\n",
              " 'MOT17-03-DPM_000801.jpg',\n",
              " 'MOT17-12-FRCNN_000237.jpg',\n",
              " 'MOT17-14-DPM_000060.jpg',\n",
              " 'MOT17-06-DPM_000111.jpg',\n",
              " 'MOT17-12-FRCNN_000579.jpg',\n",
              " 'MOT17-14-FRCNN_000567.jpg',\n",
              " 'MOT17-01-FRCNN_000433.jpg',\n",
              " 'MOT17-12-FRCNN_000821.jpg',\n",
              " 'MOT17-06-FRCNN_000451.jpg',\n",
              " 'MOT17-06-DPM_000468.jpg',\n",
              " 'MOT17-03-FRCNN_000292.jpg',\n",
              " 'MOT17-06-FRCNN_000237.jpg',\n",
              " 'MOT17-03-FRCNN_000566.jpg',\n",
              " 'MOT17-03-DPM_001138.jpg',\n",
              " 'MOT17-03-DPM_000258.jpg',\n",
              " 'MOT17-08-FRCNN_000459.jpg',\n",
              " 'MOT17-07-FRCNN_000376.jpg',\n",
              " 'MOT17-06-DPM_000637.jpg',\n",
              " 'MOT17-08-FRCNN_000311.jpg',\n",
              " 'MOT17-06-FRCNN_000675.jpg',\n",
              " 'MOT17-12-FRCNN_000538.jpg',\n",
              " 'MOT17-14-DPM_000241.jpg',\n",
              " 'MOT17-14-FRCNN_000220.jpg',\n",
              " 'MOT17-08-FRCNN_000421.jpg',\n",
              " 'MOT17-07-DPM_000140.jpg',\n",
              " 'MOT17-08-FRCNN_000251.jpg',\n",
              " 'MOT17-03-DPM_000439.jpg',\n",
              " 'MOT17-03-DPM_000934.jpg',\n",
              " 'MOT17-07-DPM_000237.jpg',\n",
              " 'MOT17-14-FRCNN_000374.jpg',\n",
              " 'MOT17-06-FRCNN_000462.jpg',\n",
              " 'MOT17-03-DPM_000503.jpg',\n",
              " 'MOT17-08-DPM_000262.jpg',\n",
              " 'MOT17-06-DPM_000223.jpg',\n",
              " 'MOT17-12-DPM_000560.jpg',\n",
              " 'MOT17-03-FRCNN_001386.jpg',\n",
              " 'MOT17-07-FRCNN_000128.jpg',\n",
              " 'MOT17-06-FRCNN_000548.jpg',\n",
              " 'MOT17-08-FRCNN_000493.jpg',\n",
              " 'MOT17-06-DPM_000480.jpg',\n",
              " 'MOT17-14-FRCNN_000564.jpg',\n",
              " 'MOT17-03-DPM_000929.jpg',\n",
              " 'MOT17-06-DPM_000042.jpg',\n",
              " 'MOT17-03-DPM_001256.jpg',\n",
              " 'MOT17-12-FRCNN_000539.jpg',\n",
              " 'MOT17-03-FRCNN_000246.jpg',\n",
              " 'MOT17-14-FRCNN_000402.jpg',\n",
              " 'MOT17-14-DPM_000576.jpg',\n",
              " 'MOT17-14-DPM_000715.jpg',\n",
              " 'MOT17-07-FRCNN_000157.jpg',\n",
              " 'MOT17-06-FRCNN_000987.jpg',\n",
              " 'MOT17-06-DPM_000539.jpg',\n",
              " 'MOT17-01-FRCNN_000368.jpg',\n",
              " 'MOT17-01-FRCNN_000156.jpg',\n",
              " 'MOT17-08-FRCNN_000399.jpg',\n",
              " 'MOT17-08-DPM_000380.jpg',\n",
              " 'MOT17-14-DPM_000257.jpg',\n",
              " 'MOT17-03-FRCNN_000855.jpg',\n",
              " 'MOT17-03-DPM_001376.jpg',\n",
              " 'MOT17-03-FRCNN_000207.jpg',\n",
              " 'MOT17-01-FRCNN_000251.jpg',\n",
              " 'MOT17-07-FRCNN_000088.jpg',\n",
              " 'MOT17-12-FRCNN_000788.jpg',\n",
              " 'MOT17-03-DPM_001232.jpg',\n",
              " 'MOT17-07-FRCNN_000454.jpg',\n",
              " 'MOT17-06-DPM_000126.jpg',\n",
              " 'MOT17-03-FRCNN_000231.jpg',\n",
              " 'MOT17-12-FRCNN_000669.jpg',\n",
              " 'MOT17-03-FRCNN_001116.jpg',\n",
              " 'MOT17-03-DPM_000286.jpg',\n",
              " 'MOT17-08-DPM_000270.jpg',\n",
              " 'MOT17-06-FRCNN_000988.jpg',\n",
              " 'MOT17-08-DPM_000026.jpg',\n",
              " 'MOT17-03-FRCNN_001362.jpg',\n",
              " 'MOT17-12-DPM_000452.jpg',\n",
              " 'MOT17-08-DPM_000033.jpg',\n",
              " 'MOT17-12-DPM_000564.jpg',\n",
              " 'MOT17-07-FRCNN_000344.jpg',\n",
              " 'MOT17-14-DPM_000300.jpg',\n",
              " 'MOT17-03-DPM_000994.jpg',\n",
              " 'MOT17-03-DPM_000252.jpg',\n",
              " 'MOT17-03-DPM_000198.jpg',\n",
              " 'MOT17-12-FRCNN_000313.jpg',\n",
              " 'MOT17-03-DPM_000296.jpg',\n",
              " 'MOT17-03-FRCNN_000362.jpg',\n",
              " 'MOT17-06-FRCNN_000741.jpg',\n",
              " 'MOT17-03-DPM_001156.jpg',\n",
              " 'MOT17-03-DPM_000036.jpg',\n",
              " 'MOT17-01-DPM_000429.jpg',\n",
              " 'MOT17-06-DPM_000567.jpg',\n",
              " 'MOT17-03-DPM_000526.jpg',\n",
              " 'MOT17-14-FRCNN_000231.jpg',\n",
              " 'MOT17-01-FRCNN_000430.jpg',\n",
              " 'MOT17-06-FRCNN_000570.jpg',\n",
              " 'MOT17-08-FRCNN_000398.jpg',\n",
              " 'MOT17-12-DPM_000600.jpg',\n",
              " 'MOT17-12-DPM_000109.jpg',\n",
              " 'MOT17-12-DPM_000759.jpg',\n",
              " 'MOT17-12-DPM_000693.jpg',\n",
              " 'MOT17-12-DPM_000023.jpg',\n",
              " 'MOT17-12-DPM_000556.jpg',\n",
              " 'MOT17-03-FRCNN_001209.jpg',\n",
              " 'MOT17-06-FRCNN_001139.jpg',\n",
              " 'MOT17-14-FRCNN_000050.jpg',\n",
              " 'MOT17-01-DPM_000024.jpg',\n",
              " 'MOT17-03-DPM_000867.jpg',\n",
              " 'MOT17-03-FRCNN_000687.jpg',\n",
              " 'MOT17-08-DPM_000023.jpg',\n",
              " 'MOT17-12-FRCNN_000279.jpg',\n",
              " 'MOT17-01-DPM_000106.jpg',\n",
              " 'MOT17-03-DPM_000275.jpg',\n",
              " 'MOT17-06-FRCNN_000305.jpg',\n",
              " 'MOT17-03-DPM_000101.jpg',\n",
              " 'MOT17-03-DPM_000155.jpg',\n",
              " 'MOT17-08-DPM_000484.jpg',\n",
              " 'MOT17-03-FRCNN_000997.jpg',\n",
              " 'MOT17-01-DPM_000076.jpg',\n",
              " 'MOT17-03-DPM_000429.jpg',\n",
              " 'MOT17-03-FRCNN_000061.jpg',\n",
              " 'MOT17-06-DPM_000514.jpg',\n",
              " 'MOT17-06-FRCNN_000495.jpg',\n",
              " 'MOT17-03-DPM_000835.jpg',\n",
              " 'MOT17-06-DPM_001002.jpg',\n",
              " 'MOT17-12-DPM_000687.jpg',\n",
              " 'MOT17-12-FRCNN_000833.jpg',\n",
              " 'MOT17-08-DPM_000410.jpg',\n",
              " 'MOT17-06-DPM_001123.jpg',\n",
              " 'MOT17-03-DPM_000601.jpg',\n",
              " 'MOT17-01-DPM_000118.jpg',\n",
              " 'MOT17-06-FRCNN_000538.jpg',\n",
              " 'MOT17-12-FRCNN_000201.jpg',\n",
              " 'MOT17-14-DPM_000195.jpg',\n",
              " 'MOT17-06-DPM_000276.jpg',\n",
              " 'MOT17-14-DPM_000045.jpg',\n",
              " 'MOT17-06-DPM_000766.jpg',\n",
              " 'MOT17-06-FRCNN_000033.jpg',\n",
              " 'MOT17-07-DPM_000242.jpg',\n",
              " 'MOT17-14-FRCNN_000517.jpg',\n",
              " 'MOT17-06-FRCNN_000651.jpg',\n",
              " 'MOT17-07-DPM_000208.jpg',\n",
              " 'MOT17-06-DPM_000382.jpg',\n",
              " 'MOT17-12-DPM_000728.jpg',\n",
              " 'MOT17-01-DPM_000422.jpg',\n",
              " 'MOT17-12-FRCNN_000359.jpg',\n",
              " 'MOT17-06-DPM_000414.jpg',\n",
              " 'MOT17-01-FRCNN_000121.jpg',\n",
              " 'MOT17-03-DPM_000514.jpg',\n",
              " 'MOT17-03-FRCNN_000736.jpg',\n",
              " 'MOT17-07-DPM_000010.jpg',\n",
              " 'MOT17-06-FRCNN_001074.jpg',\n",
              " 'MOT17-14-FRCNN_000428.jpg',\n",
              " 'MOT17-03-DPM_000425.jpg',\n",
              " 'MOT17-12-DPM_000774.jpg',\n",
              " 'MOT17-12-DPM_000382.jpg',\n",
              " 'MOT17-01-FRCNN_000092.jpg',\n",
              " 'MOT17-14-DPM_000466.jpg',\n",
              " 'MOT17-14-DPM_000584.jpg',\n",
              " 'MOT17-12-DPM_000532.jpg',\n",
              " 'MOT17-14-DPM_000217.jpg',\n",
              " 'MOT17-03-DPM_000829.jpg',\n",
              " 'MOT17-14-DPM_000548.jpg',\n",
              " 'MOT17-06-FRCNN_000900.jpg',\n",
              " 'MOT17-14-DPM_000460.jpg',\n",
              " 'MOT17-03-DPM_001446.jpg',\n",
              " 'MOT17-08-FRCNN_000223.jpg',\n",
              " 'MOT17-08-FRCNN_000584.jpg',\n",
              " 'MOT17-08-FRCNN_000562.jpg',\n",
              " 'MOT17-14-DPM_000406.jpg',\n",
              " 'MOT17-03-DPM_000560.jpg',\n",
              " 'MOT17-03-DPM_000797.jpg',\n",
              " 'MOT17-06-FRCNN_000511.jpg',\n",
              " 'MOT17-06-FRCNN_000886.jpg',\n",
              " 'MOT17-03-DPM_001080.jpg',\n",
              " 'MOT17-14-FRCNN_000082.jpg',\n",
              " 'MOT17-08-FRCNN_000370.jpg',\n",
              " 'MOT17-07-DPM_000206.jpg',\n",
              " 'MOT17-03-DPM_001145.jpg',\n",
              " 'MOT17-03-FRCNN_000897.jpg',\n",
              " 'MOT17-12-FRCNN_000411.jpg',\n",
              " 'MOT17-06-FRCNN_001134.jpg',\n",
              " 'MOT17-03-FRCNN_000005.jpg',\n",
              " 'MOT17-07-FRCNN_000266.jpg',\n",
              " 'MOT17-06-DPM_000927.jpg',\n",
              " 'MOT17-14-FRCNN_000152.jpg',\n",
              " 'MOT17-12-FRCNN_000513.jpg',\n",
              " 'MOT17-14-FRCNN_000089.jpg',\n",
              " 'MOT17-01-DPM_000036.jpg',\n",
              " 'MOT17-08-DPM_000408.jpg',\n",
              " 'MOT17-01-FRCNN_000198.jpg',\n",
              " 'MOT17-03-DPM_001276.jpg',\n",
              " 'MOT17-03-FRCNN_000817.jpg',\n",
              " 'MOT17-07-FRCNN_000072.jpg',\n",
              " 'MOT17-12-FRCNN_000741.jpg',\n",
              " 'MOT17-03-DPM_001074.jpg',\n",
              " 'MOT17-06-FRCNN_000350.jpg',\n",
              " 'MOT17-01-FRCNN_000424.jpg',\n",
              " 'MOT17-14-FRCNN_000229.jpg',\n",
              " 'MOT17-03-DPM_000808.jpg',\n",
              " 'MOT17-14-FRCNN_000663.jpg',\n",
              " 'MOT17-12-DPM_000812.jpg',\n",
              " 'MOT17-12-FRCNN_000736.jpg',\n",
              " 'MOT17-08-DPM_000059.jpg',\n",
              " 'MOT17-08-FRCNN_000467.jpg',\n",
              " 'MOT17-12-FRCNN_000620.jpg',\n",
              " 'MOT17-08-FRCNN_000375.jpg',\n",
              " 'MOT17-08-DPM_000239.jpg',\n",
              " 'MOT17-08-FRCNN_000559.jpg',\n",
              " 'MOT17-01-DPM_000385.jpg',\n",
              " 'MOT17-14-FRCNN_000607.jpg',\n",
              " 'MOT17-03-DPM_001109.jpg',\n",
              " 'MOT17-12-DPM_000032.jpg',\n",
              " 'MOT17-06-DPM_000105.jpg',\n",
              " 'MOT17-01-FRCNN_000105.jpg',\n",
              " 'MOT17-03-FRCNN_001372.jpg',\n",
              " 'MOT17-14-DPM_000030.jpg',\n",
              " 'MOT17-12-FRCNN_000570.jpg',\n",
              " 'MOT17-12-FRCNN_000761.jpg',\n",
              " 'MOT17-12-FRCNN_000880.jpg',\n",
              " 'MOT17-14-DPM_000188.jpg',\n",
              " 'MOT17-03-DPM_000896.jpg',\n",
              " 'MOT17-12-DPM_000336.jpg',\n",
              " 'MOT17-08-DPM_000405.jpg',\n",
              " 'MOT17-12-DPM_000715.jpg',\n",
              " 'MOT17-08-FRCNN_000450.jpg',\n",
              " 'MOT17-01-DPM_000248.jpg',\n",
              " 'MOT17-07-FRCNN_000412.jpg',\n",
              " 'MOT17-01-FRCNN_000275.jpg',\n",
              " 'MOT17-03-FRCNN_000105.jpg',\n",
              " 'MOT17-12-DPM_000092.jpg',\n",
              " 'MOT17-06-DPM_000065.jpg',\n",
              " 'MOT17-03-DPM_000017.jpg',\n",
              " 'MOT17-06-DPM_000034.jpg',\n",
              " 'MOT17-03-DPM_000056.jpg',\n",
              " 'MOT17-06-DPM_001101.jpg',\n",
              " 'MOT17-03-FRCNN_000407.jpg',\n",
              " 'MOT17-03-FRCNN_000478.jpg',\n",
              " 'MOT17-06-DPM_000421.jpg',\n",
              " 'MOT17-08-DPM_000225.jpg',\n",
              " 'MOT17-08-DPM_000268.jpg',\n",
              " 'MOT17-06-DPM_000794.jpg',\n",
              " 'MOT17-06-DPM_000690.jpg',\n",
              " 'MOT17-06-DPM_000072.jpg',\n",
              " 'MOT17-08-FRCNN_000470.jpg',\n",
              " 'MOT17-14-DPM_000248.jpg',\n",
              " 'MOT17-12-FRCNN_000378.jpg',\n",
              " 'MOT17-03-FRCNN_000627.jpg',\n",
              " 'MOT17-06-DPM_000588.jpg',\n",
              " 'MOT17-03-DPM_000058.jpg',\n",
              " 'MOT17-07-FRCNN_000223.jpg',\n",
              " 'MOT17-12-DPM_000176.jpg',\n",
              " 'MOT17-14-FRCNN_000168.jpg',\n",
              " 'MOT17-12-DPM_000377.jpg',\n",
              " 'MOT17-08-DPM_000284.jpg',\n",
              " 'MOT17-03-FRCNN_001284.jpg',\n",
              " 'MOT17-12-FRCNN_000043.jpg',\n",
              " 'MOT17-12-FRCNN_000610.jpg',\n",
              " 'MOT17-14-FRCNN_000425.jpg',\n",
              " 'MOT17-03-DPM_000576.jpg',\n",
              " 'MOT17-03-DPM_000038.jpg',\n",
              " 'MOT17-03-FRCNN_000925.jpg',\n",
              " 'MOT17-08-DPM_000592.jpg',\n",
              " 'MOT17-06-DPM_000756.jpg',\n",
              " 'MOT17-06-FRCNN_000151.jpg',\n",
              " 'MOT17-12-FRCNN_000571.jpg',\n",
              " 'MOT17-06-DPM_000402.jpg',\n",
              " 'MOT17-08-FRCNN_000266.jpg',\n",
              " 'MOT17-06-DPM_000561.jpg',\n",
              " 'MOT17-06-FRCNN_000204.jpg',\n",
              " 'MOT17-14-DPM_000108.jpg',\n",
              " 'MOT17-14-FRCNN_000122.jpg',\n",
              " 'MOT17-06-DPM_000743.jpg',\n",
              " 'MOT17-14-FRCNN_000261.jpg',\n",
              " 'MOT17-14-DPM_000446.jpg',\n",
              " 'MOT17-07-FRCNN_000448.jpg',\n",
              " 'MOT17-12-FRCNN_000682.jpg',\n",
              " 'MOT17-03-DPM_000330.jpg',\n",
              " 'MOT17-03-DPM_001002.jpg',\n",
              " 'MOT17-07-FRCNN_000196.jpg',\n",
              " 'MOT17-14-FRCNN_000680.jpg',\n",
              " 'MOT17-08-FRCNN_000221.jpg',\n",
              " 'MOT17-03-DPM_000962.jpg',\n",
              " 'MOT17-08-FRCNN_000534.jpg',\n",
              " 'MOT17-08-FRCNN_000510.jpg',\n",
              " 'MOT17-06-DPM_000789.jpg',\n",
              " 'MOT17-06-FRCNN_000814.jpg',\n",
              " 'MOT17-14-FRCNN_000350.jpg',\n",
              " 'MOT17-08-DPM_000447.jpg',\n",
              " 'MOT17-07-FRCNN_000363.jpg',\n",
              " 'MOT17-07-FRCNN_000323.jpg',\n",
              " 'MOT17-14-DPM_000185.jpg',\n",
              " 'MOT17-06-FRCNN_000381.jpg',\n",
              " 'MOT17-14-DPM_000144.jpg',\n",
              " 'MOT17-14-DPM_000324.jpg',\n",
              " 'MOT17-14-FRCNN_000595.jpg',\n",
              " 'MOT17-06-DPM_000356.jpg',\n",
              " 'MOT17-06-FRCNN_000998.jpg',\n",
              " 'MOT17-06-FRCNN_000758.jpg',\n",
              " 'MOT17-12-FRCNN_000231.jpg',\n",
              " 'MOT17-06-FRCNN_000685.jpg',\n",
              " 'MOT17-01-DPM_000068.jpg',\n",
              " 'MOT17-08-DPM_000283.jpg',\n",
              " 'MOT17-06-FRCNN_001082.jpg',\n",
              " 'MOT17-03-FRCNN_000901.jpg',\n",
              " 'MOT17-07-DPM_000167.jpg',\n",
              " 'MOT17-12-DPM_000788.jpg',\n",
              " 'MOT17-01-FRCNN_000367.jpg',\n",
              " 'MOT17-06-FRCNN_000336.jpg',\n",
              " 'MOT17-14-DPM_000703.jpg',\n",
              " 'MOT17-06-FRCNN_000948.jpg',\n",
              " 'MOT17-06-DPM_000017.jpg',\n",
              " 'MOT17-01-DPM_000145.jpg',\n",
              " 'MOT17-08-DPM_000608.jpg',\n",
              " 'MOT17-03-DPM_000001.jpg',\n",
              " 'MOT17-14-FRCNN_000235.jpg',\n",
              " 'MOT17-12-FRCNN_000720.jpg',\n",
              " 'MOT17-08-DPM_000404.jpg',\n",
              " 'MOT17-12-DPM_000241.jpg',\n",
              " 'MOT17-03-DPM_000318.jpg',\n",
              " 'MOT17-06-DPM_000887.jpg',\n",
              " 'MOT17-12-FRCNN_000768.jpg',\n",
              " 'MOT17-06-DPM_000530.jpg',\n",
              " 'MOT17-01-FRCNN_000162.jpg',\n",
              " 'MOT17-03-FRCNN_000329.jpg',\n",
              " 'MOT17-12-FRCNN_000470.jpg',\n",
              " 'MOT17-03-FRCNN_000385.jpg',\n",
              " 'MOT17-12-DPM_000806.jpg',\n",
              " 'MOT17-03-FRCNN_001149.jpg',\n",
              " 'MOT17-03-FRCNN_000876.jpg',\n",
              " 'MOT17-12-FRCNN_000065.jpg',\n",
              " 'MOT17-12-FRCNN_000893.jpg',\n",
              " 'MOT17-03-DPM_000207.jpg',\n",
              " 'MOT17-08-DPM_000337.jpg',\n",
              " 'MOT17-03-DPM_000067.jpg',\n",
              " 'MOT17-03-FRCNN_000040.jpg',\n",
              " 'MOT17-03-DPM_000931.jpg',\n",
              " 'MOT17-14-DPM_000413.jpg',\n",
              " 'MOT17-12-FRCNN_000020.jpg',\n",
              " 'MOT17-06-DPM_001153.jpg',\n",
              " 'MOT17-08-DPM_000343.jpg',\n",
              " 'MOT17-03-FRCNN_000729.jpg',\n",
              " 'MOT17-14-FRCNN_000690.jpg',\n",
              " 'MOT17-07-FRCNN_000249.jpg',\n",
              " 'MOT17-03-FRCNN_000237.jpg',\n",
              " 'MOT17-12-FRCNN_000517.jpg',\n",
              " 'MOT17-03-DPM_001037.jpg',\n",
              " 'MOT17-12-FRCNN_000659.jpg',\n",
              " 'MOT17-14-FRCNN_000539.jpg',\n",
              " 'MOT17-08-DPM_000540.jpg',\n",
              " 'MOT17-06-DPM_000607.jpg',\n",
              " 'MOT17-14-FRCNN_000498.jpg',\n",
              " 'MOT17-07-FRCNN_000150.jpg',\n",
              " 'MOT17-06-FRCNN_001173.jpg',\n",
              " 'MOT17-12-FRCNN_000859.jpg',\n",
              " 'MOT17-03-DPM_000663.jpg',\n",
              " 'MOT17-08-DPM_000580.jpg',\n",
              " 'MOT17-03-FRCNN_000744.jpg',\n",
              " 'MOT17-01-DPM_000225.jpg',\n",
              " 'MOT17-03-DPM_000870.jpg',\n",
              " 'MOT17-03-DPM_001057.jpg',\n",
              " 'MOT17-01-FRCNN_000096.jpg',\n",
              " 'MOT17-03-DPM_001351.jpg',\n",
              " 'MOT17-03-FRCNN_000035.jpg',\n",
              " 'MOT17-12-FRCNN_000772.jpg',\n",
              " 'MOT17-12-DPM_000146.jpg',\n",
              " 'MOT17-06-DPM_001130.jpg',\n",
              " 'MOT17-14-DPM_000357.jpg',\n",
              " 'MOT17-06-DPM_000243.jpg',\n",
              " 'MOT17-01-DPM_000054.jpg',\n",
              " 'MOT17-14-DPM_000563.jpg',\n",
              " 'MOT17-03-FRCNN_000941.jpg',\n",
              " 'MOT17-03-DPM_000166.jpg',\n",
              " 'MOT17-03-DPM_000449.jpg',\n",
              " 'MOT17-07-DPM_000368.jpg',\n",
              " 'MOT17-03-DPM_000238.jpg',\n",
              " 'MOT17-01-DPM_000257.jpg',\n",
              " 'MOT17-07-FRCNN_000374.jpg',\n",
              " 'MOT17-03-DPM_001394.jpg',\n",
              " 'MOT17-03-FRCNN_000274.jpg',\n",
              " 'MOT17-08-FRCNN_000523.jpg',\n",
              " 'MOT17-08-DPM_000191.jpg',\n",
              " 'MOT17-06-DPM_000608.jpg',\n",
              " 'MOT17-12-DPM_000845.jpg',\n",
              " 'MOT17-08-FRCNN_000378.jpg',\n",
              " 'MOT17-14-DPM_000684.jpg',\n",
              " 'MOT17-12-DPM_000504.jpg',\n",
              " 'MOT17-06-DPM_000374.jpg',\n",
              " 'MOT17-06-FRCNN_000581.jpg',\n",
              " 'MOT17-06-DPM_001159.jpg',\n",
              " 'MOT17-07-FRCNN_000204.jpg',\n",
              " 'MOT17-07-DPM_000435.jpg',\n",
              " 'MOT17-03-DPM_000322.jpg',\n",
              " 'MOT17-03-FRCNN_001326.jpg',\n",
              " 'MOT17-12-DPM_000834.jpg',\n",
              " 'MOT17-14-FRCNN_000380.jpg',\n",
              " 'MOT17-14-FRCNN_000036.jpg',\n",
              " 'MOT17-06-FRCNN_000318.jpg',\n",
              " 'MOT17-03-FRCNN_000651.jpg',\n",
              " 'MOT17-12-DPM_000107.jpg',\n",
              " 'MOT17-12-FRCNN_000865.jpg',\n",
              " 'MOT17-01-FRCNN_000270.jpg',\n",
              " 'MOT17-08-FRCNN_000292.jpg',\n",
              " 'MOT17-12-FRCNN_000233.jpg',\n",
              " 'MOT17-08-DPM_000453.jpg',\n",
              " 'MOT17-03-FRCNN_001081.jpg',\n",
              " 'MOT17-03-FRCNN_001340.jpg',\n",
              " 'MOT17-03-FRCNN_001496.jpg',\n",
              " 'MOT17-01-DPM_000086.jpg',\n",
              " 'MOT17-06-FRCNN_000652.jpg',\n",
              " 'MOT17-14-FRCNN_000466.jpg',\n",
              " 'MOT17-07-DPM_000007.jpg',\n",
              " 'MOT17-14-FRCNN_000581.jpg',\n",
              " 'MOT17-03-FRCNN_000702.jpg',\n",
              " 'MOT17-07-FRCNN_000045.jpg',\n",
              " 'MOT17-07-FRCNN_000056.jpg',\n",
              " 'MOT17-03-DPM_001500.jpg',\n",
              " 'MOT17-12-DPM_000796.jpg',\n",
              " 'MOT17-14-FRCNN_000180.jpg',\n",
              " 'MOT17-06-FRCNN_000191.jpg',\n",
              " 'MOT17-03-DPM_000072.jpg',\n",
              " 'MOT17-01-FRCNN_000258.jpg',\n",
              " 'MOT17-06-DPM_000307.jpg',\n",
              " 'MOT17-03-DPM_000142.jpg',\n",
              " 'MOT17-03-FRCNN_001478.jpg',\n",
              " 'MOT17-14-DPM_000696.jpg',\n",
              " 'MOT17-14-FRCNN_000182.jpg',\n",
              " 'MOT17-14-DPM_000372.jpg',\n",
              " 'MOT17-14-DPM_000571.jpg',\n",
              " 'MOT17-06-DPM_000739.jpg',\n",
              " 'MOT17-08-DPM_000362.jpg',\n",
              " 'MOT17-03-DPM_000489.jpg',\n",
              " 'MOT17-14-DPM_000498.jpg',\n",
              " 'MOT17-06-DPM_000689.jpg',\n",
              " 'MOT17-06-FRCNN_000689.jpg',\n",
              " 'MOT17-03-DPM_001464.jpg',\n",
              " 'MOT17-12-FRCNN_000306.jpg',\n",
              " 'MOT17-12-FRCNN_000405.jpg',\n",
              " 'MOT17-07-FRCNN_000403.jpg',\n",
              " 'MOT17-07-FRCNN_000320.jpg',\n",
              " 'MOT17-03-DPM_000023.jpg',\n",
              " 'MOT17-03-FRCNN_001005.jpg',\n",
              " 'MOT17-06-FRCNN_001070.jpg',\n",
              " 'MOT17-08-FRCNN_000313.jpg',\n",
              " 'MOT17-03-DPM_001391.jpg',\n",
              " 'MOT17-12-FRCNN_000765.jpg',\n",
              " 'MOT17-03-FRCNN_001103.jpg',\n",
              " 'MOT17-12-FRCNN_000662.jpg',\n",
              " 'MOT17-12-FRCNN_000593.jpg',\n",
              " 'MOT17-07-DPM_000051.jpg',\n",
              " 'MOT17-01-DPM_000293.jpg',\n",
              " 'MOT17-06-FRCNN_000109.jpg',\n",
              " 'MOT17-07-DPM_000120.jpg',\n",
              " 'MOT17-03-DPM_001104.jpg',\n",
              " 'MOT17-06-DPM_000133.jpg',\n",
              " 'MOT17-01-FRCNN_000101.jpg',\n",
              " 'MOT17-14-DPM_000345.jpg',\n",
              " 'MOT17-12-FRCNN_000171.jpg',\n",
              " 'MOT17-08-DPM_000189.jpg',\n",
              " 'MOT17-01-DPM_000426.jpg',\n",
              " 'MOT17-03-FRCNN_000570.jpg',\n",
              " 'MOT17-08-DPM_000039.jpg',\n",
              " 'MOT17-06-FRCNN_000439.jpg',\n",
              " 'MOT17-06-FRCNN_000347.jpg',\n",
              " 'MOT17-03-DPM_001499.jpg',\n",
              " 'MOT17-03-FRCNN_000508.jpg',\n",
              " 'MOT17-08-DPM_000610.jpg',\n",
              " 'MOT17-07-FRCNN_000252.jpg',\n",
              " 'MOT17-06-DPM_000171.jpg',\n",
              " 'MOT17-06-DPM_000548.jpg',\n",
              " 'MOT17-06-DPM_000228.jpg',\n",
              " 'MOT17-08-DPM_000273.jpg',\n",
              " 'MOT17-06-DPM_000351.jpg',\n",
              " 'MOT17-01-FRCNN_000144.jpg',\n",
              " 'MOT17-14-FRCNN_000184.jpg',\n",
              " 'MOT17-01-DPM_000200.jpg',\n",
              " 'MOT17-03-FRCNN_001139.jpg',\n",
              " 'MOT17-03-FRCNN_000422.jpg',\n",
              " 'MOT17-12-FRCNN_000163.jpg',\n",
              " 'MOT17-03-DPM_000730.jpg',\n",
              " 'MOT17-03-FRCNN_001420.jpg',\n",
              " 'MOT17-03-DPM_000387.jpg',\n",
              " 'MOT17-03-FRCNN_001152.jpg',\n",
              " 'MOT17-08-FRCNN_000345.jpg',\n",
              " 'MOT17-03-DPM_000840.jpg',\n",
              " 'MOT17-08-DPM_000141.jpg',\n",
              " 'MOT17-08-FRCNN_000411.jpg',\n",
              " 'MOT17-03-FRCNN_000065.jpg',\n",
              " 'MOT17-12-FRCNN_000247.jpg',\n",
              " 'MOT17-03-FRCNN_000755.jpg',\n",
              " 'MOT17-03-FRCNN_001189.jpg',\n",
              " 'MOT17-12-FRCNN_000606.jpg',\n",
              " 'MOT17-06-FRCNN_001060.jpg',\n",
              " 'MOT17-06-DPM_000027.jpg',\n",
              " 'MOT17-06-DPM_001190.jpg',\n",
              " 'MOT17-03-FRCNN_000774.jpg',\n",
              " 'MOT17-12-FRCNN_000178.jpg',\n",
              " 'MOT17-06-FRCNN_001081.jpg',\n",
              " 'MOT17-14-DPM_000697.jpg',\n",
              " 'MOT17-03-DPM_001121.jpg',\n",
              " 'MOT17-06-DPM_000601.jpg',\n",
              " 'MOT17-07-FRCNN_000043.jpg',\n",
              " 'MOT17-03-FRCNN_000796.jpg',\n",
              " 'MOT17-06-DPM_000921.jpg',\n",
              " 'MOT17-14-FRCNN_000286.jpg',\n",
              " 'MOT17-06-DPM_000278.jpg',\n",
              " 'MOT17-07-DPM_000492.jpg',\n",
              " 'MOT17-03-FRCNN_000869.jpg',\n",
              " 'MOT17-08-DPM_000490.jpg',\n",
              " 'MOT17-08-DPM_000185.jpg',\n",
              " 'MOT17-08-FRCNN_000389.jpg',\n",
              " 'MOT17-03-DPM_001316.jpg',\n",
              " 'MOT17-06-FRCNN_001154.jpg',\n",
              " 'MOT17-14-DPM_000402.jpg',\n",
              " 'MOT17-12-FRCNN_000685.jpg',\n",
              " 'MOT17-08-DPM_000204.jpg',\n",
              " 'MOT17-14-FRCNN_000335.jpg',\n",
              " 'MOT17-03-FRCNN_001090.jpg',\n",
              " 'MOT17-06-FRCNN_000785.jpg',\n",
              " 'MOT17-12-FRCNN_000507.jpg',\n",
              " 'MOT17-06-DPM_001157.jpg',\n",
              " 'MOT17-14-DPM_000663.jpg',\n",
              " 'MOT17-03-FRCNN_001302.jpg',\n",
              " 'MOT17-07-FRCNN_000004.jpg',\n",
              " 'MOT17-12-DPM_000433.jpg',\n",
              " 'MOT17-06-FRCNN_000054.jpg',\n",
              " 'MOT17-03-DPM_000485.jpg',\n",
              " 'MOT17-03-FRCNN_000871.jpg',\n",
              " 'MOT17-07-DPM_000018.jpg',\n",
              " 'MOT17-07-DPM_000053.jpg',\n",
              " 'MOT17-03-FRCNN_001131.jpg',\n",
              " 'MOT17-08-FRCNN_000554.jpg',\n",
              " 'MOT17-01-FRCNN_000304.jpg',\n",
              " 'MOT17-12-FRCNN_000546.jpg',\n",
              " 'MOT17-03-FRCNN_000574.jpg',\n",
              " 'MOT17-06-DPM_000239.jpg',\n",
              " 'MOT17-06-DPM_000094.jpg',\n",
              " 'MOT17-03-DPM_000952.jpg',\n",
              " 'MOT17-03-FRCNN_001440.jpg',\n",
              " 'MOT17-14-DPM_000246.jpg',\n",
              " 'MOT17-06-FRCNN_000114.jpg',\n",
              " 'MOT17-03-FRCNN_000026.jpg',\n",
              " 'MOT17-12-DPM_000670.jpg',\n",
              " 'MOT17-08-DPM_000512.jpg',\n",
              " 'MOT17-07-DPM_000270.jpg',\n",
              " 'MOT17-07-FRCNN_000425.jpg',\n",
              " 'MOT17-03-DPM_001063.jpg',\n",
              " 'MOT17-01-FRCNN_000331.jpg',\n",
              " 'MOT17-03-DPM_000703.jpg',\n",
              " 'MOT17-03-DPM_000268.jpg',\n",
              " 'MOT17-12-DPM_000594.jpg',\n",
              " 'MOT17-12-FRCNN_000418.jpg',\n",
              " 'MOT17-03-DPM_001290.jpg',\n",
              " 'MOT17-08-FRCNN_000006.jpg',\n",
              " 'MOT17-14-FRCNN_000578.jpg',\n",
              " 'MOT17-01-FRCNN_000373.jpg',\n",
              " 'MOT17-03-DPM_000355.jpg',\n",
              " 'MOT17-06-FRCNN_000574.jpg',\n",
              " 'MOT17-07-DPM_000388.jpg',\n",
              " 'MOT17-12-DPM_000317.jpg',\n",
              " 'MOT17-06-FRCNN_000403.jpg',\n",
              " 'MOT17-06-DPM_000894.jpg',\n",
              " 'MOT17-08-FRCNN_000073.jpg',\n",
              " 'MOT17-06-DPM_000851.jpg',\n",
              " 'MOT17-01-DPM_000027.jpg',\n",
              " 'MOT17-01-DPM_000137.jpg',\n",
              " 'MOT17-03-DPM_000530.jpg',\n",
              " 'MOT17-06-FRCNN_000288.jpg',\n",
              " 'MOT17-03-FRCNN_001086.jpg',\n",
              " 'MOT17-07-DPM_000111.jpg',\n",
              " 'MOT17-06-FRCNN_000026.jpg',\n",
              " 'MOT17-06-FRCNN_000421.jpg',\n",
              " 'MOT17-03-FRCNN_001097.jpg',\n",
              " 'MOT17-01-DPM_000300.jpg',\n",
              " 'MOT17-03-DPM_000465.jpg',\n",
              " 'MOT17-12-FRCNN_000366.jpg',\n",
              " 'MOT17-08-FRCNN_000017.jpg',\n",
              " 'MOT17-14-DPM_000135.jpg',\n",
              " 'MOT17-06-FRCNN_000883.jpg',\n",
              " 'MOT17-03-FRCNN_000217.jpg',\n",
              " 'MOT17-03-FRCNN_000006.jpg',\n",
              " 'MOT17-06-DPM_000702.jpg',\n",
              " 'MOT17-01-FRCNN_000348.jpg',\n",
              " 'MOT17-06-DPM_000500.jpg',\n",
              " 'MOT17-03-FRCNN_000638.jpg',\n",
              " 'MOT17-06-FRCNN_000607.jpg',\n",
              " 'MOT17-12-FRCNN_000881.jpg',\n",
              " 'MOT17-06-FRCNN_000980.jpg',\n",
              " 'MOT17-07-DPM_000463.jpg',\n",
              " 'MOT17-06-FRCNN_000569.jpg',\n",
              " 'MOT17-01-DPM_000417.jpg',\n",
              " 'MOT17-08-DPM_000325.jpg',\n",
              " 'MOT17-03-DPM_001397.jpg',\n",
              " 'MOT17-03-FRCNN_001165.jpg',\n",
              " 'MOT17-06-FRCNN_000271.jpg',\n",
              " 'MOT17-14-FRCNN_000666.jpg',\n",
              " 'MOT17-12-FRCNN_000393.jpg',\n",
              " 'MOT17-03-DPM_001451.jpg',\n",
              " 'MOT17-03-DPM_000872.jpg',\n",
              " 'MOT17-03-DPM_000789.jpg',\n",
              " 'MOT17-08-FRCNN_000502.jpg',\n",
              " 'MOT17-14-DPM_000252.jpg',\n",
              " 'MOT17-06-DPM_001028.jpg',\n",
              " 'MOT17-03-FRCNN_001275.jpg',\n",
              " 'MOT17-03-DPM_000783.jpg',\n",
              " 'MOT17-03-FRCNN_000558.jpg',\n",
              " 'MOT17-06-FRCNN_000710.jpg',\n",
              " 'MOT17-12-FRCNN_000777.jpg',\n",
              " 'MOT17-08-DPM_000291.jpg',\n",
              " 'MOT17-06-DPM_000461.jpg',\n",
              " 'MOT17-14-FRCNN_000091.jpg',\n",
              " 'MOT17-06-FRCNN_000712.jpg',\n",
              " 'MOT17-06-DPM_001086.jpg',\n",
              " 'MOT17-03-DPM_000490.jpg',\n",
              " 'MOT17-03-FRCNN_000537.jpg',\n",
              " 'MOT17-07-DPM_000460.jpg',\n",
              " 'MOT17-08-FRCNN_000062.jpg',\n",
              " 'MOT17-07-DPM_000421.jpg',\n",
              " 'MOT17-12-DPM_000752.jpg',\n",
              " 'MOT17-06-DPM_000524.jpg',\n",
              " 'MOT17-03-FRCNN_001289.jpg',\n",
              " 'MOT17-06-DPM_000486.jpg',\n",
              " 'MOT17-08-DPM_000247.jpg',\n",
              " 'MOT17-03-FRCNN_001206.jpg',\n",
              " 'MOT17-03-FRCNN_000725.jpg',\n",
              " 'MOT17-08-DPM_000561.jpg',\n",
              " 'MOT17-12-FRCNN_000449.jpg',\n",
              " 'MOT17-12-DPM_000724.jpg',\n",
              " 'MOT17-03-DPM_000763.jpg',\n",
              " 'MOT17-03-FRCNN_000674.jpg',\n",
              " 'MOT17-12-FRCNN_000362.jpg',\n",
              " 'MOT17-08-DPM_000375.jpg',\n",
              " 'MOT17-06-FRCNN_000023.jpg',\n",
              " 'MOT17-03-DPM_000562.jpg',\n",
              " 'MOT17-12-DPM_000453.jpg',\n",
              " 'MOT17-01-FRCNN_000334.jpg',\n",
              " 'MOT17-14-FRCNN_000677.jpg',\n",
              " 'MOT17-03-DPM_001382.jpg',\n",
              " 'MOT17-03-FRCNN_001040.jpg',\n",
              " 'MOT17-12-FRCNN_000413.jpg',\n",
              " 'MOT17-06-FRCNN_000553.jpg',\n",
              " 'MOT17-06-DPM_000790.jpg',\n",
              " 'MOT17-12-DPM_000821.jpg',\n",
              " 'MOT17-14-FRCNN_000715.jpg',\n",
              " 'MOT17-08-DPM_000078.jpg',\n",
              " 'MOT17-06-DPM_001137.jpg',\n",
              " 'MOT17-06-DPM_000157.jpg',\n",
              " 'MOT17-08-DPM_000472.jpg',\n",
              " 'MOT17-08-DPM_000164.jpg',\n",
              " 'MOT17-06-DPM_000222.jpg',\n",
              " 'MOT17-12-DPM_000018.jpg',\n",
              " 'MOT17-14-DPM_000711.jpg',\n",
              " 'MOT17-03-DPM_001329.jpg',\n",
              " 'MOT17-06-FRCNN_001106.jpg',\n",
              " 'MOT17-14-DPM_000153.jpg',\n",
              " 'MOT17-12-FRCNN_000367.jpg',\n",
              " 'MOT17-06-FRCNN_000879.jpg',\n",
              " 'MOT17-01-DPM_000179.jpg',\n",
              " 'MOT17-03-DPM_001325.jpg',\n",
              " 'MOT17-12-DPM_000572.jpg',\n",
              " 'MOT17-07-DPM_000312.jpg',\n",
              " 'MOT17-08-DPM_000498.jpg',\n",
              " 'MOT17-06-DPM_000696.jpg',\n",
              " 'MOT17-08-FRCNN_000563.jpg',\n",
              " 'MOT17-06-FRCNN_000366.jpg',\n",
              " 'MOT17-06-DPM_001020.jpg',\n",
              " 'MOT17-06-DPM_000870.jpg',\n",
              " 'MOT17-03-DPM_000676.jpg',\n",
              " 'MOT17-14-DPM_000392.jpg',\n",
              " 'MOT17-14-FRCNN_000090.jpg',\n",
              " 'MOT17-07-DPM_000376.jpg',\n",
              " 'MOT17-14-DPM_000488.jpg',\n",
              " 'MOT17-08-DPM_000267.jpg',\n",
              " 'MOT17-12-DPM_000611.jpg',\n",
              " 'MOT17-01-FRCNN_000149.jpg',\n",
              " 'MOT17-08-FRCNN_000245.jpg',\n",
              " 'MOT17-07-FRCNN_000193.jpg',\n",
              " 'MOT17-03-FRCNN_001198.jpg',\n",
              " 'MOT17-08-FRCNN_000531.jpg',\n",
              " 'MOT17-06-DPM_000904.jpg',\n",
              " 'MOT17-14-FRCNN_000146.jpg',\n",
              " 'MOT17-14-DPM_000731.jpg',\n",
              " 'MOT17-06-FRCNN_001160.jpg',\n",
              " 'MOT17-06-FRCNN_000711.jpg',\n",
              " 'MOT17-01-FRCNN_000434.jpg',\n",
              " 'MOT17-12-FRCNN_000222.jpg',\n",
              " 'MOT17-03-FRCNN_001375.jpg',\n",
              " 'MOT17-14-FRCNN_000204.jpg',\n",
              " 'MOT17-06-FRCNN_000894.jpg',\n",
              " 'MOT17-07-DPM_000234.jpg',\n",
              " 'MOT17-12-DPM_000131.jpg',\n",
              " 'MOT17-03-DPM_001123.jpg',\n",
              " 'MOT17-08-DPM_000236.jpg',\n",
              " 'MOT17-06-DPM_000435.jpg',\n",
              " 'MOT17-06-DPM_000977.jpg',\n",
              " 'MOT17-08-FRCNN_000061.jpg',\n",
              " 'MOT17-12-DPM_000265.jpg',\n",
              " 'MOT17-03-FRCNN_000029.jpg',\n",
              " 'MOT17-01-DPM_000205.jpg',\n",
              " 'MOT17-14-FRCNN_000313.jpg',\n",
              " 'MOT17-03-DPM_001220.jpg',\n",
              " 'MOT17-06-DPM_000502.jpg',\n",
              " 'MOT17-14-DPM_000289.jpg',\n",
              " 'MOT17-08-FRCNN_000117.jpg',\n",
              " 'MOT17-06-DPM_000680.jpg',\n",
              " 'MOT17-01-FRCNN_000035.jpg',\n",
              " 'MOT17-01-FRCNN_000089.jpg',\n",
              " 'MOT17-01-FRCNN_000159.jpg',\n",
              " 'MOT17-14-FRCNN_000056.jpg',\n",
              " 'MOT17-01-DPM_000286.jpg',\n",
              " 'MOT17-03-DPM_000700.jpg',\n",
              " 'MOT17-03-DPM_001205.jpg',\n",
              " ...]"
            ]
          },
          "metadata": {},
          "execution_count": 15
        }
      ]
    },
    {
      "cell_type": "code",
      "source": [
        "class_labels = [\n",
        "    'objects'\n",
        "]\n",
        "dataset_root_dir = os.path.join(\n",
        "    os.getcwd(),\n",
        "    'MOT17'\n",
        ")\n",
        "yolo_yaml_path = os.path.join(\n",
        "    dataset_root_dir,\n",
        "    'mot17_data.yml'\n",
        ")\n",
        "\n",
        "data_yaml = {\n",
        "    'path': dataset_root_dir,\n",
        "    'train': 'train/images',\n",
        "    'val': 'test/images',\n",
        "    'nc': len(class_labels),\n",
        "    'names': class_labels\n",
        "}\n",
        "\n",
        "with open(yolo_yaml_path, 'w') as f:\n",
        "    yaml.dump(data_yaml, f, default_flow_style=False)"
      ],
      "metadata": {
        "id": "d0e9HIBk8jpL"
      },
      "execution_count": null,
      "outputs": []
    },
    {
      "cell_type": "code",
      "source": [],
      "metadata": {
        "id": "WlSUBXoig92h"
      },
      "execution_count": null,
      "outputs": []
    },
    {
      "cell_type": "code",
      "source": [
        "from ultralytics import YOLO\n",
        "\n",
        "# Load the YOLOv8 model\n",
        "model = YOLO('yolov8s.pt')\n",
        "\n",
        "# Config\n",
        "epochs = 30\n",
        "batch_size = -1 # Auto scale based on GPU memory\n",
        "img_size = 640\n",
        "project_name = 'models/yolo'\n",
        "name = 'yolov8s'\n",
        "\n",
        "# Train the model\n",
        "results = model.train(\n",
        "    data=yolo_yaml_path,\n",
        "    epochs=epochs,\n",
        "    batch=batch_size,\n",
        "    imgsz=img_size,\n",
        "    project=project_name,\n",
        "    name=name\n",
        ")"
      ],
      "metadata": {
        "colab": {
          "base_uri": "https://localhost:8080/"
        },
        "id": "SVa-cmgQ8q8Z",
        "outputId": "e3ba92f8-1f55-4851-8d23-2a74722c22b1"
      },
      "execution_count": null,
      "outputs": [
        {
          "metadata": {
            "tags": null
          },
          "name": "stdout",
          "output_type": "stream",
          "text": [
            "Downloading https://github.com/ultralytics/assets/releases/download/v8.3.0/yolov8s.pt to 'yolov8s.pt'...\n"
          ]
        },
        {
          "metadata": {
            "tags": null
          },
          "name": "stderr",
          "output_type": "stream",
          "text": [
            "100%|██████████| 21.5M/21.5M [00:00<00:00, 362MB/s]\n"
          ]
        },
        {
          "metadata": {
            "tags": null
          },
          "name": "stdout",
          "output_type": "stream",
          "text": [
            "Ultralytics 8.3.57 🚀 Python-3.10.12 torch-2.5.1+cu121 CUDA:0 (Tesla T4, 15102MiB)\n",
            "\u001b[34m\u001b[1mengine/trainer: \u001b[0mtask=detect, mode=train, model=yolov8s.pt, data=/content/MOT17/mot17_data.yml, epochs=30, time=None, patience=100, batch=-1, imgsz=640, save=True, save_period=-1, cache=False, device=None, workers=8, project=models/yolo, name=yolov8s, exist_ok=False, pretrained=True, optimizer=auto, verbose=True, seed=0, deterministic=True, single_cls=False, rect=False, cos_lr=False, close_mosaic=10, resume=False, amp=True, fraction=1.0, profile=False, freeze=None, multi_scale=False, overlap_mask=True, mask_ratio=4, dropout=0.0, val=True, split=val, save_json=False, save_hybrid=False, conf=None, iou=0.7, max_det=300, half=False, dnn=False, plots=True, source=None, vid_stride=1, stream_buffer=False, visualize=False, augment=False, agnostic_nms=False, classes=None, retina_masks=False, embed=None, show=False, save_frames=False, save_txt=False, save_conf=False, save_crop=False, show_labels=True, show_conf=True, show_boxes=True, line_width=None, format=torchscript, keras=False, optimize=False, int8=False, dynamic=False, simplify=True, opset=None, workspace=None, nms=False, lr0=0.01, lrf=0.01, momentum=0.937, weight_decay=0.0005, warmup_epochs=3.0, warmup_momentum=0.8, warmup_bias_lr=0.1, box=7.5, cls=0.5, dfl=1.5, pose=12.0, kobj=1.0, nbs=64, hsv_h=0.015, hsv_s=0.7, hsv_v=0.4, degrees=0.0, translate=0.1, scale=0.5, shear=0.0, perspective=0.0, flipud=0.0, fliplr=0.5, bgr=0.0, mosaic=1.0, mixup=0.0, copy_paste=0.0, copy_paste_mode=flip, auto_augment=randaugment, erasing=0.4, crop_fraction=1.0, cfg=None, tracker=botsort.yaml, save_dir=models/yolo/yolov8s\n",
            "Downloading https://ultralytics.com/assets/Arial.ttf to '/root/.config/Ultralytics/Arial.ttf'...\n"
          ]
        },
        {
          "metadata": {
            "tags": null
          },
          "name": "stderr",
          "output_type": "stream",
          "text": [
            "100%|██████████| 755k/755k [00:00<00:00, 91.5MB/s]\n"
          ]
        },
        {
          "metadata": {
            "tags": null
          },
          "name": "stdout",
          "output_type": "stream",
          "text": [
            "Overriding model.yaml nc=80 with nc=1\n",
            "\n",
            "                   from  n    params  module                                       arguments                     \n",
            "  0                  -1  1       928  ultralytics.nn.modules.conv.Conv             [3, 32, 3, 2]                 \n",
            "  1                  -1  1     18560  ultralytics.nn.modules.conv.Conv             [32, 64, 3, 2]                \n",
            "  2                  -1  1     29056  ultralytics.nn.modules.block.C2f             [64, 64, 1, True]             \n",
            "  3                  -1  1     73984  ultralytics.nn.modules.conv.Conv             [64, 128, 3, 2]               \n",
            "  4                  -1  2    197632  ultralytics.nn.modules.block.C2f             [128, 128, 2, True]           \n",
            "  5                  -1  1    295424  ultralytics.nn.modules.conv.Conv             [128, 256, 3, 2]              \n",
            "  6                  -1  2    788480  ultralytics.nn.modules.block.C2f             [256, 256, 2, True]           \n",
            "  7                  -1  1   1180672  ultralytics.nn.modules.conv.Conv             [256, 512, 3, 2]              \n",
            "  8                  -1  1   1838080  ultralytics.nn.modules.block.C2f             [512, 512, 1, True]           \n",
            "  9                  -1  1    656896  ultralytics.nn.modules.block.SPPF            [512, 512, 5]                 \n",
            " 10                  -1  1         0  torch.nn.modules.upsampling.Upsample         [None, 2, 'nearest']          \n",
            " 11             [-1, 6]  1         0  ultralytics.nn.modules.conv.Concat           [1]                           \n",
            " 12                  -1  1    591360  ultralytics.nn.modules.block.C2f             [768, 256, 1]                 \n",
            " 13                  -1  1         0  torch.nn.modules.upsampling.Upsample         [None, 2, 'nearest']          \n",
            " 14             [-1, 4]  1         0  ultralytics.nn.modules.conv.Concat           [1]                           \n",
            " 15                  -1  1    148224  ultralytics.nn.modules.block.C2f             [384, 128, 1]                 \n",
            " 16                  -1  1    147712  ultralytics.nn.modules.conv.Conv             [128, 128, 3, 2]              \n",
            " 17            [-1, 12]  1         0  ultralytics.nn.modules.conv.Concat           [1]                           \n",
            " 18                  -1  1    493056  ultralytics.nn.modules.block.C2f             [384, 256, 1]                 \n",
            " 19                  -1  1    590336  ultralytics.nn.modules.conv.Conv             [256, 256, 3, 2]              \n",
            " 20             [-1, 9]  1         0  ultralytics.nn.modules.conv.Concat           [1]                           \n",
            " 21                  -1  1   1969152  ultralytics.nn.modules.block.C2f             [768, 512, 1]                 \n",
            " 22        [15, 18, 21]  1   2116435  ultralytics.nn.modules.head.Detect           [1, [128, 256, 512]]          \n",
            "Model summary: 225 layers, 11,135,987 parameters, 11,135,971 gradients, 28.6 GFLOPs\n",
            "\n",
            "Transferred 349/355 items from pretrained weights\n",
            "\u001b[34m\u001b[1mTensorBoard: \u001b[0mStart with 'tensorboard --logdir models/yolo/yolov8s', view at http://localhost:6006/\n",
            "Freezing layer 'model.22.dfl.conv.weight'\n",
            "\u001b[34m\u001b[1mAMP: \u001b[0mrunning Automatic Mixed Precision (AMP) checks...\n",
            "Downloading https://github.com/ultralytics/assets/releases/download/v8.3.0/yolo11n.pt to 'yolo11n.pt'...\n"
          ]
        },
        {
          "metadata": {
            "tags": null
          },
          "name": "stderr",
          "output_type": "stream",
          "text": [
            "100%|██████████| 5.35M/5.35M [00:00<00:00, 295MB/s]\n"
          ]
        },
        {
          "metadata": {
            "tags": null
          },
          "name": "stdout",
          "output_type": "stream",
          "text": [
            "\u001b[34m\u001b[1mAMP: \u001b[0mchecks passed ✅\n"
          ]
        },
        {
          "metadata": {
            "tags": null
          },
          "name": "stderr",
          "output_type": "stream",
          "text": [
            "\u001b[34m\u001b[1mtrain: \u001b[0mScanning /content/MOT17/train/labels... 5316 images, 5316 backgrounds, 0 corrupt: 100%|██████████| 10632/10632 [00:06<00:00, 1600.11it/s]\n"
          ]
        },
        {
          "metadata": {
            "tags": null
          },
          "name": "stdout",
          "output_type": "stream",
          "text": [
            "\u001b[34m\u001b[1mtrain: \u001b[0mNew cache created: /content/MOT17/train/labels.cache\n",
            "\u001b[34m\u001b[1malbumentations: \u001b[0mBlur(p=0.01, blur_limit=(3, 7)), MedianBlur(p=0.01, blur_limit=(3, 7)), ToGray(p=0.01, num_output_channels=3, method='weighted_average'), CLAHE(p=0.01, clip_limit=(1.0, 4.0), tile_grid_size=(8, 8))\n",
            "\u001b[34m\u001b[1mAutoBatch: \u001b[0mComputing optimal batch size for imgsz=640 at 60.0% CUDA memory utilization.\n",
            "\u001b[34m\u001b[1mAutoBatch: \u001b[0mCUDA:0 (Tesla T4) 14.75G total, 0.13G reserved, 0.12G allocated, 14.49G free\n",
            "      Params      GFLOPs  GPU_mem (GB)  forward (ms) backward (ms)                   input                  output\n"
          ]
        },
        {
          "metadata": {
            "tags": null
          },
          "name": "stderr",
          "output_type": "stream",
          "text": [
            "/usr/local/lib/python3.10/dist-packages/albumentations/__init__.py:24: UserWarning: A new version of Albumentations is available: 1.4.24 (you have 1.4.20). Upgrade using: pip install -U albumentations. To disable automatic update checks, set the environment variable NO_ALBUMENTATIONS_UPDATE to 1.\n",
            "  check_for_updates()\n"
          ]
        },
        {
          "metadata": {
            "tags": null
          },
          "name": "stdout",
          "output_type": "stream",
          "text": [
            "    11135987       28.65         0.528         80.26         532.4        (1, 3, 640, 640)                    list\n",
            "    11135987       57.29         0.782         37.96         90.19        (2, 3, 640, 640)                    list\n",
            "    11135987       114.6         1.231         38.55         72.27        (4, 3, 640, 640)                    list\n",
            "    11135987       229.2         2.135         50.39         62.05        (8, 3, 640, 640)                    list\n",
            "    11135987       458.4         3.953         76.71         92.87       (16, 3, 640, 640)                    list\n",
            "\u001b[34m\u001b[1mAutoBatch: \u001b[0mUsing batch-size 53 for CUDA:0 8.98G/14.75G (61%) ✅\n"
          ]
        },
        {
          "metadata": {
            "tags": null
          },
          "name": "stderr",
          "output_type": "stream",
          "text": [
            "\u001b[34m\u001b[1mtrain: \u001b[0mScanning /content/MOT17/train/labels.cache... 5316 images, 5316 backgrounds, 0 corrupt: 100%|██████████| 10632/10632 [00:00<?, ?it/s]"
          ]
        },
        {
          "metadata": {
            "tags": null
          },
          "name": "stdout",
          "output_type": "stream",
          "text": [
            "\u001b[34m\u001b[1malbumentations: \u001b[0mBlur(p=0.01, blur_limit=(3, 7)), MedianBlur(p=0.01, blur_limit=(3, 7)), ToGray(p=0.01, num_output_channels=3, method='weighted_average'), CLAHE(p=0.01, clip_limit=(1.0, 4.0), tile_grid_size=(8, 8))\n"
          ]
        },
        {
          "metadata": {
            "tags": null
          },
          "name": "stderr",
          "output_type": "stream",
          "text": [
            "\n",
            "\u001b[34m\u001b[1mval: \u001b[0mScanning /content/MOT17/test/labels... 5908 images, 5930 backgrounds, 0 corrupt: 100%|██████████| 11838/11838 [00:24<00:00, 487.24it/s]\n"
          ]
        },
        {
          "metadata": {
            "tags": null
          },
          "name": "stdout",
          "output_type": "stream",
          "text": [
            "\u001b[34m\u001b[1mval: \u001b[0mNew cache created: /content/MOT17/test/labels.cache\n",
            "Plotting labels to models/yolo/yolov8s/labels.jpg... \n",
            "\u001b[34m\u001b[1moptimizer:\u001b[0m 'optimizer=auto' found, ignoring 'lr0=0.01' and 'momentum=0.937' and determining best 'optimizer', 'lr0' and 'momentum' automatically... \n",
            "\u001b[34m\u001b[1moptimizer:\u001b[0m AdamW(lr=0.002, momentum=0.9) with parameter groups 57 weight(decay=0.0), 64 weight(decay=0.0004140625), 63 bias(decay=0.0)\n",
            "\u001b[34m\u001b[1mTensorBoard: \u001b[0mmodel graph visualization added ✅\n",
            "Image sizes 640 train, 640 val\n",
            "Using 2 dataloader workers\n",
            "Logging results to \u001b[1mmodels/yolo/yolov8s\u001b[0m\n",
            "Starting training for 30 epochs...\n",
            "\n",
            "      Epoch    GPU_mem   box_loss   cls_loss   dfl_loss  Instances       Size\n"
          ]
        },
        {
          "metadata": {
            "tags": null
          },
          "name": "stderr",
          "output_type": "stream",
          "text": [
            "       1/30      12.8G      1.106      1.297     0.9651        272        640: 100%|██████████| 201/201 [05:01<00:00,  1.50s/it]\n",
            "                 Class     Images  Instances      Box(P          R      mAP50  mAP50-95): 100%|██████████| 112/112 [02:42<00:00,  1.45s/it]\n"
          ]
        },
        {
          "metadata": {
            "tags": null
          },
          "name": "stdout",
          "output_type": "stream",
          "text": [
            "                   all      11838     110141      0.453      0.698       0.42      0.259\n",
            "\n",
            "      Epoch    GPU_mem   box_loss   cls_loss   dfl_loss  Instances       Size\n"
          ]
        },
        {
          "metadata": {
            "tags": null
          },
          "name": "stderr",
          "output_type": "stream",
          "text": [
            "       2/30      12.7G      1.047      1.143     0.9486        371        640: 100%|██████████| 201/201 [05:04<00:00,  1.52s/it]\n",
            "                 Class     Images  Instances      Box(P          R      mAP50  mAP50-95): 100%|██████████| 112/112 [02:39<00:00,  1.43s/it]\n"
          ]
        },
        {
          "metadata": {
            "tags": null
          },
          "name": "stdout",
          "output_type": "stream",
          "text": [
            "                   all      11838     110141      0.448      0.769       0.44      0.284\n",
            "\n",
            "      Epoch    GPU_mem   box_loss   cls_loss   dfl_loss  Instances       Size\n"
          ]
        },
        {
          "metadata": {
            "tags": null
          },
          "name": "stderr",
          "output_type": "stream",
          "text": [
            "       3/30      12.5G      1.024      1.118     0.9435        374        640: 100%|██████████| 201/201 [05:04<00:00,  1.51s/it]\n",
            "                 Class     Images  Instances      Box(P          R      mAP50  mAP50-95): 100%|██████████| 112/112 [02:40<00:00,  1.44s/it]\n"
          ]
        },
        {
          "metadata": {
            "tags": null
          },
          "name": "stdout",
          "output_type": "stream",
          "text": [
            "                   all      11838     110141      0.429      0.713      0.421      0.262\n",
            "\n",
            "      Epoch    GPU_mem   box_loss   cls_loss   dfl_loss  Instances       Size\n"
          ]
        },
        {
          "metadata": {
            "tags": null
          },
          "name": "stderr",
          "output_type": "stream",
          "text": [
            "       4/30      13.3G     0.9822      1.095     0.9336        333        640: 100%|██████████| 201/201 [05:03<00:00,  1.51s/it]\n",
            "                 Class     Images  Instances      Box(P          R      mAP50  mAP50-95): 100%|██████████| 112/112 [02:42<00:00,  1.45s/it]\n"
          ]
        },
        {
          "metadata": {
            "tags": null
          },
          "name": "stdout",
          "output_type": "stream",
          "text": [
            "                   all      11838     110141      0.457      0.747      0.445      0.289\n",
            "\n",
            "      Epoch    GPU_mem   box_loss   cls_loss   dfl_loss  Instances       Size\n"
          ]
        },
        {
          "metadata": {
            "tags": null
          },
          "name": "stderr",
          "output_type": "stream",
          "text": [
            "       5/30      13.1G     0.9171      1.059     0.9157        527        640: 100%|██████████| 201/201 [04:55<00:00,  1.47s/it]\n",
            "                 Class     Images  Instances      Box(P          R      mAP50  mAP50-95): 100%|██████████| 112/112 [02:35<00:00,  1.39s/it]\n"
          ]
        },
        {
          "metadata": {
            "tags": null
          },
          "name": "stdout",
          "output_type": "stream",
          "text": [
            "                   all      11838     110141      0.457      0.752      0.445      0.297\n",
            "\n",
            "      Epoch    GPU_mem   box_loss   cls_loss   dfl_loss  Instances       Size\n"
          ]
        },
        {
          "metadata": {
            "tags": null
          },
          "name": "stderr",
          "output_type": "stream",
          "text": [
            "       6/30      14.4G     0.8754      1.025     0.9044        425        640: 100%|██████████| 201/201 [04:53<00:00,  1.46s/it]\n",
            "                 Class     Images  Instances      Box(P          R      mAP50  mAP50-95): 100%|██████████| 112/112 [02:37<00:00,  1.40s/it]\n"
          ]
        },
        {
          "metadata": {
            "tags": null
          },
          "name": "stdout",
          "output_type": "stream",
          "text": [
            "                   all      11838     110141      0.454      0.763      0.449      0.303\n",
            "\n",
            "      Epoch    GPU_mem   box_loss   cls_loss   dfl_loss  Instances       Size\n"
          ]
        },
        {
          "metadata": {
            "tags": null
          },
          "name": "stderr",
          "output_type": "stream",
          "text": [
            "       7/30      12.8G     0.8418      1.017     0.8943        377        640: 100%|██████████| 201/201 [04:56<00:00,  1.47s/it]\n",
            "                 Class     Images  Instances      Box(P          R      mAP50  mAP50-95): 100%|██████████| 112/112 [02:37<00:00,  1.41s/it]\n"
          ]
        },
        {
          "metadata": {
            "tags": null
          },
          "name": "stdout",
          "output_type": "stream",
          "text": [
            "                   all      11838     110141      0.456      0.748      0.436      0.298\n",
            "\n",
            "      Epoch    GPU_mem   box_loss   cls_loss   dfl_loss  Instances       Size\n"
          ]
        },
        {
          "metadata": {
            "tags": null
          },
          "name": "stderr",
          "output_type": "stream",
          "text": [
            "       8/30      13.2G     0.8157     0.9839     0.8892        450        640: 100%|██████████| 201/201 [04:51<00:00,  1.45s/it]\n",
            "                 Class     Images  Instances      Box(P          R      mAP50  mAP50-95): 100%|██████████| 112/112 [02:34<00:00,  1.38s/it]\n"
          ]
        },
        {
          "metadata": {
            "tags": null
          },
          "name": "stdout",
          "output_type": "stream",
          "text": [
            "                   all      11838     110141      0.461      0.762      0.448      0.311\n",
            "\n",
            "      Epoch    GPU_mem   box_loss   cls_loss   dfl_loss  Instances       Size\n"
          ]
        },
        {
          "metadata": {
            "tags": null
          },
          "name": "stderr",
          "output_type": "stream",
          "text": [
            "       9/30      13.6G     0.7926     0.9913     0.8836        404        640: 100%|██████████| 201/201 [04:50<00:00,  1.44s/it]\n",
            "                 Class     Images  Instances      Box(P          R      mAP50  mAP50-95): 100%|██████████| 112/112 [02:35<00:00,  1.39s/it]\n"
          ]
        },
        {
          "metadata": {
            "tags": null
          },
          "name": "stdout",
          "output_type": "stream",
          "text": [
            "                   all      11838     110141      0.458      0.781      0.454      0.303\n",
            "\n",
            "      Epoch    GPU_mem   box_loss   cls_loss   dfl_loss  Instances       Size\n"
          ]
        },
        {
          "metadata": {
            "tags": null
          },
          "name": "stderr",
          "output_type": "stream",
          "text": [
            "      10/30      13.1G     0.7725     0.9763     0.8783        276        640: 100%|██████████| 201/201 [04:51<00:00,  1.45s/it]\n",
            "                 Class     Images  Instances      Box(P          R      mAP50  mAP50-95): 100%|██████████| 112/112 [02:35<00:00,  1.39s/it]\n"
          ]
        },
        {
          "metadata": {
            "tags": null
          },
          "name": "stdout",
          "output_type": "stream",
          "text": [
            "                   all      11838     110141      0.458      0.749      0.447      0.308\n",
            "\n",
            "      Epoch    GPU_mem   box_loss   cls_loss   dfl_loss  Instances       Size\n"
          ]
        },
        {
          "metadata": {
            "tags": null
          },
          "name": "stderr",
          "output_type": "stream",
          "text": [
            "      11/30      13.4G     0.7593     0.9681     0.8745        320        640: 100%|██████████| 201/201 [04:51<00:00,  1.45s/it]\n",
            "                 Class     Images  Instances      Box(P          R      mAP50  mAP50-95): 100%|██████████| 112/112 [02:37<00:00,  1.41s/it]\n"
          ]
        },
        {
          "metadata": {
            "tags": null
          },
          "name": "stdout",
          "output_type": "stream",
          "text": [
            "                   all      11838     110141      0.459      0.773      0.451      0.312\n",
            "\n",
            "      Epoch    GPU_mem   box_loss   cls_loss   dfl_loss  Instances       Size\n"
          ]
        },
        {
          "metadata": {
            "tags": null
          },
          "name": "stderr",
          "output_type": "stream",
          "text": [
            "      12/30      13.5G      0.748     0.9729     0.8729        380        640: 100%|██████████| 201/201 [04:50<00:00,  1.45s/it]\n",
            "                 Class     Images  Instances      Box(P          R      mAP50  mAP50-95): 100%|██████████| 112/112 [02:32<00:00,  1.36s/it]\n"
          ]
        },
        {
          "metadata": {
            "tags": null
          },
          "name": "stdout",
          "output_type": "stream",
          "text": [
            "                   all      11838     110141      0.463       0.78      0.454      0.316\n",
            "\n",
            "      Epoch    GPU_mem   box_loss   cls_loss   dfl_loss  Instances       Size\n"
          ]
        },
        {
          "metadata": {
            "tags": null
          },
          "name": "stderr",
          "output_type": "stream",
          "text": [
            "      13/30        13G       0.73     0.9542     0.8682        480        640: 100%|██████████| 201/201 [04:45<00:00,  1.42s/it]\n",
            "                 Class     Images  Instances      Box(P          R      mAP50  mAP50-95): 100%|██████████| 112/112 [02:34<00:00,  1.38s/it]\n"
          ]
        },
        {
          "metadata": {
            "tags": null
          },
          "name": "stdout",
          "output_type": "stream",
          "text": [
            "                   all      11838     110141       0.46      0.784      0.455      0.315\n",
            "\n",
            "      Epoch    GPU_mem   box_loss   cls_loss   dfl_loss  Instances       Size\n"
          ]
        },
        {
          "metadata": {
            "tags": null
          },
          "name": "stderr",
          "output_type": "stream",
          "text": [
            "      14/30      12.8G     0.7203     0.9496     0.8679        352        640: 100%|██████████| 201/201 [04:50<00:00,  1.44s/it]\n",
            "                 Class     Images  Instances      Box(P          R      mAP50  mAP50-95): 100%|██████████| 112/112 [02:32<00:00,  1.36s/it]\n"
          ]
        },
        {
          "metadata": {
            "tags": null
          },
          "name": "stdout",
          "output_type": "stream",
          "text": [
            "                   all      11838     110141      0.461       0.78      0.454      0.312\n",
            "\n",
            "      Epoch    GPU_mem   box_loss   cls_loss   dfl_loss  Instances       Size\n"
          ]
        },
        {
          "metadata": {
            "tags": null
          },
          "name": "stderr",
          "output_type": "stream",
          "text": [
            "      15/30      13.5G     0.7026     0.9444     0.8628        395        640: 100%|██████████| 201/201 [04:51<00:00,  1.45s/it]\n",
            "                 Class     Images  Instances      Box(P          R      mAP50  mAP50-95): 100%|██████████| 112/112 [02:33<00:00,  1.37s/it]\n"
          ]
        },
        {
          "metadata": {
            "tags": null
          },
          "name": "stdout",
          "output_type": "stream",
          "text": [
            "                   all      11838     110141      0.462      0.774       0.45      0.312\n",
            "\n",
            "      Epoch    GPU_mem   box_loss   cls_loss   dfl_loss  Instances       Size\n"
          ]
        },
        {
          "metadata": {
            "tags": null
          },
          "name": "stderr",
          "output_type": "stream",
          "text": [
            "      16/30      12.6G     0.6889     0.9324     0.8605        397        640: 100%|██████████| 201/201 [04:47<00:00,  1.43s/it]\n",
            "                 Class     Images  Instances      Box(P          R      mAP50  mAP50-95): 100%|██████████| 112/112 [02:36<00:00,  1.39s/it]\n"
          ]
        },
        {
          "metadata": {
            "tags": null
          },
          "name": "stdout",
          "output_type": "stream",
          "text": [
            "                   all      11838     110141      0.463      0.784      0.449      0.311\n",
            "\n",
            "      Epoch    GPU_mem   box_loss   cls_loss   dfl_loss  Instances       Size\n"
          ]
        },
        {
          "metadata": {
            "tags": null
          },
          "name": "stderr",
          "output_type": "stream",
          "text": [
            "      17/30      13.9G     0.6816     0.9373     0.8576        444        640: 100%|██████████| 201/201 [04:48<00:00,  1.43s/it]\n",
            "                 Class     Images  Instances      Box(P          R      mAP50  mAP50-95): 100%|██████████| 112/112 [02:34<00:00,  1.38s/it]\n"
          ]
        },
        {
          "metadata": {
            "tags": null
          },
          "name": "stdout",
          "output_type": "stream",
          "text": [
            "                   all      11838     110141      0.464      0.777      0.452       0.31\n",
            "\n",
            "      Epoch    GPU_mem   box_loss   cls_loss   dfl_loss  Instances       Size\n"
          ]
        },
        {
          "metadata": {
            "tags": null
          },
          "name": "stderr",
          "output_type": "stream",
          "text": [
            "      18/30      12.8G     0.6697     0.9298     0.8556        445        640: 100%|██████████| 201/201 [04:52<00:00,  1.46s/it]\n",
            "                 Class     Images  Instances      Box(P          R      mAP50  mAP50-95): 100%|██████████| 112/112 [02:34<00:00,  1.38s/it]\n"
          ]
        },
        {
          "metadata": {
            "tags": null
          },
          "name": "stdout",
          "output_type": "stream",
          "text": [
            "                   all      11838     110141      0.462      0.779      0.451      0.313\n",
            "\n",
            "      Epoch    GPU_mem   box_loss   cls_loss   dfl_loss  Instances       Size\n"
          ]
        },
        {
          "metadata": {
            "tags": null
          },
          "name": "stderr",
          "output_type": "stream",
          "text": [
            "      19/30      12.7G     0.6577     0.9168     0.8536        330        640: 100%|██████████| 201/201 [04:50<00:00,  1.45s/it]\n",
            "                 Class     Images  Instances      Box(P          R      mAP50  mAP50-95): 100%|██████████| 112/112 [02:32<00:00,  1.36s/it]\n"
          ]
        },
        {
          "metadata": {
            "tags": null
          },
          "name": "stdout",
          "output_type": "stream",
          "text": [
            "                   all      11838     110141      0.464      0.775      0.454      0.317\n",
            "\n",
            "      Epoch    GPU_mem   box_loss   cls_loss   dfl_loss  Instances       Size\n"
          ]
        },
        {
          "metadata": {
            "tags": null
          },
          "name": "stderr",
          "output_type": "stream",
          "text": [
            "      20/30      12.7G     0.6528     0.9211     0.8527        370        640: 100%|██████████| 201/201 [04:57<00:00,  1.48s/it]\n",
            "                 Class     Images  Instances      Box(P          R      mAP50  mAP50-95): 100%|██████████| 112/112 [02:37<00:00,  1.40s/it]\n"
          ]
        },
        {
          "metadata": {
            "tags": null
          },
          "name": "stdout",
          "output_type": "stream",
          "text": [
            "                   all      11838     110141      0.463      0.774      0.454      0.319\n",
            "Closing dataloader mosaic\n",
            "\u001b[34m\u001b[1malbumentations: \u001b[0mBlur(p=0.01, blur_limit=(3, 7)), MedianBlur(p=0.01, blur_limit=(3, 7)), ToGray(p=0.01, num_output_channels=3, method='weighted_average'), CLAHE(p=0.01, clip_limit=(1.0, 4.0), tile_grid_size=(8, 8))\n",
            "\n",
            "      Epoch    GPU_mem   box_loss   cls_loss   dfl_loss  Instances       Size\n"
          ]
        },
        {
          "output_type": "stream",
          "name": "stderr",
          "text": [
            "      21/30      11.7G     0.6237     0.9129     0.8363        174        640: 100%|██████████| 201/201 [04:50<00:00,  1.44s/it]\n",
            "                 Class     Images  Instances      Box(P          R      mAP50  mAP50-95): 100%|██████████| 112/112 [02:37<00:00,  1.40s/it]\n"
          ]
        },
        {
          "output_type": "stream",
          "name": "stdout",
          "text": [
            "                   all      11838     110141      0.463       0.78      0.455      0.319\n",
            "\n",
            "      Epoch    GPU_mem   box_loss   cls_loss   dfl_loss  Instances       Size\n"
          ]
        },
        {
          "output_type": "stream",
          "name": "stderr",
          "text": [
            "      22/30      11.7G     0.6098     0.9047     0.8339        138        640: 100%|██████████| 201/201 [04:39<00:00,  1.39s/it]\n",
            "                 Class     Images  Instances      Box(P          R      mAP50  mAP50-95): 100%|██████████| 112/112 [02:34<00:00,  1.38s/it]\n"
          ]
        },
        {
          "output_type": "stream",
          "name": "stdout",
          "text": [
            "                   all      11838     110141      0.461      0.776      0.451      0.318\n",
            "\n",
            "      Epoch    GPU_mem   box_loss   cls_loss   dfl_loss  Instances       Size\n"
          ]
        },
        {
          "output_type": "stream",
          "name": "stderr",
          "text": [
            "      23/30      11.8G     0.5934     0.9089     0.8306        170        640: 100%|██████████| 201/201 [04:35<00:00,  1.37s/it]\n",
            "                 Class     Images  Instances      Box(P          R      mAP50  mAP50-95): 100%|██████████| 112/112 [02:33<00:00,  1.37s/it]\n"
          ]
        },
        {
          "output_type": "stream",
          "name": "stdout",
          "text": [
            "                   all      11838     110141      0.463      0.774      0.452      0.317\n",
            "\n",
            "      Epoch    GPU_mem   box_loss   cls_loss   dfl_loss  Instances       Size\n"
          ]
        },
        {
          "output_type": "stream",
          "name": "stderr",
          "text": [
            "      24/30      11.7G      0.583     0.8999     0.8277        224        640: 100%|██████████| 201/201 [04:37<00:00,  1.38s/it]\n",
            "                 Class     Images  Instances      Box(P          R      mAP50  mAP50-95): 100%|██████████| 112/112 [02:33<00:00,  1.37s/it]\n"
          ]
        },
        {
          "output_type": "stream",
          "name": "stdout",
          "text": [
            "                   all      11838     110141      0.464      0.781      0.456       0.32\n",
            "\n",
            "      Epoch    GPU_mem   box_loss   cls_loss   dfl_loss  Instances       Size\n"
          ]
        },
        {
          "output_type": "stream",
          "name": "stderr",
          "text": [
            "      25/30      11.8G     0.5706     0.8907     0.8251        159        640: 100%|██████████| 201/201 [04:39<00:00,  1.39s/it]\n",
            "                 Class     Images  Instances      Box(P          R      mAP50  mAP50-95): 100%|██████████| 112/112 [02:37<00:00,  1.40s/it]\n"
          ]
        },
        {
          "output_type": "stream",
          "name": "stdout",
          "text": [
            "                   all      11838     110141      0.464      0.783      0.454      0.322\n",
            "\n",
            "      Epoch    GPU_mem   box_loss   cls_loss   dfl_loss  Instances       Size\n"
          ]
        },
        {
          "output_type": "stream",
          "name": "stderr",
          "text": [
            "      26/30      11.7G     0.5548     0.8837     0.8237        242        640: 100%|██████████| 201/201 [04:39<00:00,  1.39s/it]\n",
            "                 Class     Images  Instances      Box(P          R      mAP50  mAP50-95): 100%|██████████| 112/112 [02:37<00:00,  1.41s/it]\n"
          ]
        },
        {
          "output_type": "stream",
          "name": "stdout",
          "text": [
            "                   all      11838     110141      0.463      0.783      0.455      0.323\n",
            "\n",
            "      Epoch    GPU_mem   box_loss   cls_loss   dfl_loss  Instances       Size\n"
          ]
        },
        {
          "output_type": "stream",
          "name": "stderr",
          "text": [
            "      27/30      11.8G     0.5487     0.8837     0.8213        220        640: 100%|██████████| 201/201 [04:39<00:00,  1.39s/it]\n",
            "                 Class     Images  Instances      Box(P          R      mAP50  mAP50-95): 100%|██████████| 112/112 [02:35<00:00,  1.38s/it]\n"
          ]
        },
        {
          "output_type": "stream",
          "name": "stdout",
          "text": [
            "                   all      11838     110141      0.464       0.78      0.457      0.325\n",
            "\n",
            "      Epoch    GPU_mem   box_loss   cls_loss   dfl_loss  Instances       Size\n"
          ]
        },
        {
          "output_type": "stream",
          "name": "stderr",
          "text": [
            "      28/30        12G     0.5385     0.8764     0.8197        260        640: 100%|██████████| 201/201 [04:40<00:00,  1.39s/it]\n",
            "                 Class     Images  Instances      Box(P          R      mAP50  mAP50-95): 100%|██████████| 112/112 [02:38<00:00,  1.42s/it]\n"
          ]
        },
        {
          "output_type": "stream",
          "name": "stdout",
          "text": [
            "                   all      11838     110141      0.462      0.783      0.454      0.323\n",
            "\n",
            "      Epoch    GPU_mem   box_loss   cls_loss   dfl_loss  Instances       Size\n"
          ]
        },
        {
          "output_type": "stream",
          "name": "stderr",
          "text": [
            "      29/30      11.7G     0.5265     0.8772      0.818        249        640: 100%|██████████| 201/201 [04:37<00:00,  1.38s/it]\n",
            "                 Class     Images  Instances      Box(P          R      mAP50  mAP50-95): 100%|██████████| 112/112 [02:36<00:00,  1.40s/it]\n"
          ]
        },
        {
          "output_type": "stream",
          "name": "stdout",
          "text": [
            "                   all      11838     110141      0.465      0.773      0.455      0.326\n",
            "\n",
            "      Epoch    GPU_mem   box_loss   cls_loss   dfl_loss  Instances       Size\n"
          ]
        },
        {
          "output_type": "stream",
          "name": "stderr",
          "text": [
            "      30/30      11.8G     0.5179     0.8725      0.816        233        640: 100%|██████████| 201/201 [04:40<00:00,  1.40s/it]\n",
            "                 Class     Images  Instances      Box(P          R      mAP50  mAP50-95): 100%|██████████| 112/112 [02:40<00:00,  1.43s/it]\n"
          ]
        },
        {
          "output_type": "stream",
          "name": "stdout",
          "text": [
            "                   all      11838     110141      0.465      0.778      0.454      0.326\n",
            "\n",
            "30 epochs completed in 3.762 hours.\n",
            "Optimizer stripped from models/yolo/yolov8s/weights/last.pt, 22.5MB\n",
            "Optimizer stripped from models/yolo/yolov8s/weights/best.pt, 22.5MB\n",
            "\n",
            "Validating models/yolo/yolov8s/weights/best.pt...\n",
            "Ultralytics 8.3.57 🚀 Python-3.10.12 torch-2.5.1+cu121 CUDA:0 (Tesla T4, 15102MiB)\n",
            "Model summary (fused): 168 layers, 11,125,971 parameters, 0 gradients, 28.4 GFLOPs\n"
          ]
        },
        {
          "output_type": "stream",
          "name": "stderr",
          "text": [
            "                 Class     Images  Instances      Box(P          R      mAP50  mAP50-95): 100%|██████████| 112/112 [02:58<00:00,  1.60s/it]\n"
          ]
        },
        {
          "output_type": "stream",
          "name": "stdout",
          "text": [
            "                   all      11838     110141      0.465      0.773      0.455      0.326\n",
            "Speed: 0.1ms preprocess, 3.1ms inference, 0.0ms loss, 2.0ms postprocess per image\n",
            "Results saved to \u001b[1mmodels/yolo/yolov8s\u001b[0m\n"
          ]
        }
      ]
    },
    {
      "cell_type": "code",
      "source": [
        "from ultralytics import YOLO\n",
        "\n",
        "# Load the trained model\n",
        "model_path = '/content/models/yolo/yolov8s/weights/best.pt'\n",
        "model = YOLO(model_path)\n",
        "\n",
        "metrics = model.val(\n",
        "    project=project_name,\n",
        "    name='detect/val'\n",
        ")"
      ],
      "metadata": {
        "colab": {
          "base_uri": "https://localhost:8080/"
        },
        "id": "VHlzvOYIiIFb",
        "outputId": "197aeaa2-d247-4e1d-e032-66cecaf41a74"
      },
      "execution_count": null,
      "outputs": [
        {
          "output_type": "stream",
          "name": "stdout",
          "text": [
            "Ultralytics 8.3.57 🚀 Python-3.10.12 torch-2.5.1+cu121 CUDA:0 (Tesla T4, 15102MiB)\n",
            "Model summary (fused): 168 layers, 11,125,971 parameters, 0 gradients, 28.4 GFLOPs\n"
          ]
        },
        {
          "output_type": "stream",
          "name": "stderr",
          "text": [
            "\u001b[34m\u001b[1mval: \u001b[0mScanning /content/MOT17/test/labels.cache... 5908 images, 5930 backgrounds, 0 corrupt: 100%|██████████| 11838/11838 [00:00<?, ?it/s]\n",
            "                 Class     Images  Instances      Box(P          R      mAP50  mAP50-95): 100%|██████████| 740/740 [03:25<00:00,  3.60it/s]\n"
          ]
        },
        {
          "output_type": "stream",
          "name": "stdout",
          "text": [
            "                   all      11838     110141      0.465      0.774      0.454      0.326\n",
            "Speed: 0.2ms preprocess, 5.6ms inference, 0.0ms loss, 2.0ms postprocess per image\n",
            "Results saved to \u001b[1mmodels/yolo/detect/val\u001b[0m\n"
          ]
        }
      ]
    },
    {
      "cell_type": "code",
      "source": [
        "sample_path = '/content/MOT17/test/images/MOT17-01-FRCNN_000004.jpg'\n",
        "results = model.predict(\n",
        "    sample_path,\n",
        "    project=project_name,\n",
        "    name='detect/predict',\n",
        "    save=True\n",
        ")"
      ],
      "metadata": {
        "colab": {
          "base_uri": "https://localhost:8080/"
        },
        "id": "pIUa7vrUiTtb",
        "outputId": "5017e809-f669-4362-d3a3-99b81f2f77db"
      },
      "execution_count": null,
      "outputs": [
        {
          "output_type": "stream",
          "name": "stdout",
          "text": [
            "\n",
            "image 1/1 /content/MOT17/test/images/MOT17-01-FRCNN_000004.jpg: 384x640 6 objectss, 46.3ms\n",
            "Speed: 5.7ms preprocess, 46.3ms inference, 1.6ms postprocess per image at shape (1, 3, 384, 640)\n",
            "Results saved to \u001b[1mmodels/yolo/detect/predict\u001b[0m\n"
          ]
        }
      ]
    },
    {
      "cell_type": "code",
      "source": [
        "from ultralytics import YOLO\n",
        "\n",
        "# Load the trained model\n",
        "model_path = '/kaggle/working/models/yolo/yolov8s_mot17_det2/weights/best.pt'\n",
        "model = YOLO(model_path)\n",
        "\n",
        "metrics = model.val(\n",
        "    project=project_name,\n",
        "    name='detect/val'\n",
        ")"
      ],
      "metadata": {
        "id": "_awCIFiWh85d"
      },
      "execution_count": null,
      "outputs": []
    }
  ]
}